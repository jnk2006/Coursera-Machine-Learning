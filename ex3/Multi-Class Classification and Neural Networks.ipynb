{
 "cells": [
  {
   "cell_type": "markdown",
   "metadata": {},
   "source": [
    "# Programming Exercise 3: Multi-Class Classification and Neural Networks"
   ]
  },
  {
   "cell_type": "code",
   "execution_count": 1,
   "metadata": {},
   "outputs": [],
   "source": [
    "import numpy as np\n",
    "import pandas as pd\n",
    "\n",
    "import scipy.optimize as opt\n",
    "\n",
    "import os\n",
    "from scipy.io import loadmat\n",
    "\n",
    "import seaborn as sns\n",
    "import matplotlib.pyplot as plt\n",
    "%matplotlib inline"
   ]
  },
  {
   "cell_type": "markdown",
   "metadata": {},
   "source": [
    "### Defining necessary functions:"
   ]
  },
  {
   "cell_type": "code",
   "execution_count": 2,
   "metadata": {},
   "outputs": [],
   "source": [
    "def displayData(X, example_width=None):\n",
    "    #Displays 2D data stored in X in a nice grid. It returns the figure handle h and the displayed array if requested\n",
    "    \n",
    "    plt.close()\n",
    "    \n",
    "    #Create a new figure\n",
    "    plt.figure()\n",
    "    \n",
    "    if X.ndim == 1:\n",
    "        X = np.reshape(X, (-1,X.shape[0]))\n",
    "    \n",
    "    # Gray Image\n",
    "    plt.set_cmap(\"gray\")    \n",
    "    \n",
    "    #Set example_width automatically if not passed in\n",
    "    if (not example_width) or not 'example_width' in locals():\n",
    "        example_width = int(np.round(np.sqrt(X.shape[1])))\n",
    "    \n",
    "    #Gray image\n",
    "    \n",
    "    \n",
    "    #Compute rows, cols\n",
    "    m, n = X.shape\n",
    "    example_height = int((n/example_width))\n",
    "    \n",
    "    #Compute number of items to display\n",
    "    display_rows = int(np.floor(np.sqrt(m)))\n",
    "    display_cols = int(np.ceil(m/display_rows))\n",
    "    \n",
    "    #Between images padding\n",
    "    pad = 1\n",
    "    \n",
    "    #Setup blank display\n",
    "    display_array = - np.ones([pad + int(display_rows) * (int(example_height) + pad), \n",
    "                               pad + int(display_cols) * (int(example_width) + pad)])\n",
    "    \n",
    "    #Copy each example into a patch on the display array\n",
    "    curr_ex = 1\n",
    "    for j in range(1, int(display_rows)+1):\n",
    "        for i in range(1, int(display_cols)+1):\n",
    "            if (curr_ex > m):\n",
    "                break;\n",
    "            \n",
    "            #Copy the patch\n",
    "            \n",
    "            #Get the maximum value of the patch\n",
    "            max_val = max(abs(X[curr_ex-1, :]))\n",
    "            rows = pad + (j - 1) * (example_height + pad) + np.array(range(example_height))\n",
    "            cols = pad + (i - 1) * (example_width  + pad) + np.array(range(example_width))\n",
    "            display_array[rows[0]:rows[-1]+1 , cols[0]:cols[-1]+1] = np.reshape(X[curr_ex-1, :], (example_height, example_width), order=\"F\") / max_val\n",
    "            curr_ex = curr_ex + 1\n",
    "            \n",
    "        if (curr_ex > m):\n",
    "            break\n",
    "    \n",
    "    #Display Image\n",
    "    h = plt.imshow(display_array, vmin=-1, vmax=1)\n",
    "    \n",
    "    #Do not show axis\n",
    "    plt.axis('off')\n",
    "    \n",
    "    plt.show(block = False)\n",
    "    \n",
    "    return h, display_array"
   ]
  },
  {
   "cell_type": "code",
   "execution_count": 3,
   "metadata": {},
   "outputs": [],
   "source": [
    "def sigmoid(z):\n",
    "    #g = SIGMOID(z) computes the sigmoid of z.\n",
    "    \n",
    "    #Computation\n",
    "    g = np.zeros(np.shape(z))\n",
    "    g = 1/(1+np.exp(-z))\n",
    "    \n",
    "    return g"
   ]
  },
  {
   "cell_type": "code",
   "execution_count": 4,
   "metadata": {},
   "outputs": [],
   "source": [
    "def lrCostFunction(theta, X, y, lambda_):\n",
    "    #COSTFUNCTIONREG Compute cost and gradient for logistic regression with regularization\n",
    "    \n",
    "    #Initialize some useful values\n",
    "    m = y.size\n",
    "    \n",
    "    # convert labels to ints if their type is bool\n",
    "    if y.dtype == bool:\n",
    "        y = y.astype(int)\n",
    "    \n",
    "    # You need to return the following variables correctly\n",
    "    J = 0\n",
    "    grad = np.zeros(theta.shape)\n",
    "    \n",
    "    # ====================== YOUR CODE HERE ======================\n",
    "    h = sigmoid(X.dot(theta.T))\n",
    "    \n",
    "    temp = theta\n",
    "    temp[0] = 0\n",
    "    \n",
    "    #J = (1 / m) * np.sum(-y.dot(np.log(h)) - (1 - y).dot(np.log(1 - h))) + (lambda_ / (2 * m)) * np.sum(np.square(temp))\n",
    "    J = np.sum(np.dot((-y.T),np.log(h))-np.dot((1-y).T,np.log(1-h)))/m + (lambda_t / (2 * m)) * np.sum(np.square(temp))\n",
    "    \n",
    "    #grad = (1 / m) * (h - y).dot(X) \n",
    "    #grad = grad + (lambda_ / m) * temp\n",
    "    error = h - y\n",
    "    grad = (np.dot(X.T, error) + lambda_t*temp)/m \n",
    "    \n",
    "    return J, grad.ravel()"
   ]
  },
  {
   "cell_type": "code",
   "execution_count": 5,
   "metadata": {},
   "outputs": [],
   "source": [
    "def oneVsAll(X, y, num_labels, lambda_):\n",
    "    #Function trains num_labels logistic regression classifiers and returns each of these classifiers in a matrix all_theta, where the i-th row of all_theta corresponds to the classifier for label i\n",
    "    \n",
    "    #Some useful variables\n",
    "    m, n = X.shape\n",
    "    \n",
    "    #You need to return the following variables correctly\n",
    "    all_theta = np.zeros((num_labels, n + 1)) #all_theta shape = (10, 401) each row consists of 401 theta values for each label\n",
    "    \n",
    "    #Add ones to the X data matrix\n",
    "    X = np.concatenate([np.ones((m, 1)), X], axis=1)\n",
    "    \n",
    "    for c in np.arange(num_labels):\n",
    "        initial_theta = np.zeros(n + 1)\n",
    "        options = {'maxiter': 50}\n",
    "        res = opt.minimize(lrCostFunction, \n",
    "                                initial_theta, \n",
    "                                (X, (y.flatten() == c), lambda_), \n",
    "                                jac=True, \n",
    "                                method='CG',\n",
    "                                options=options) \n",
    "        \n",
    "        all_theta[c] = res.x\n",
    "        \n",
    "    return all_theta"
   ]
  },
  {
   "cell_type": "code",
   "execution_count": 6,
   "metadata": {},
   "outputs": [],
   "source": [
    "def predictOneVsAll(all_theta, X):\n",
    "    '''\n",
    "    p = PREDICTONEVSALL(all_theta, X) will return a vector of predictions for each example in the matrix X. \n",
    "    Note that X contains the examples in rows. all_theta is a matrix where the i-th row is a trained logistic \n",
    "    regression theta vector for the i-th class. You should set p to a vector of values from 1..K \n",
    "    (e.g., p = [1; 3; 1; 2] predicts classes 1, 3, 1, 2\n",
    "    for 4 examples) \n",
    "    '''\n",
    "    \n",
    "    m = X.shape[0]\n",
    "    num_labels = all_theta.shape[0]\n",
    "    p = np.zeros(m)\n",
    "    \n",
    "    #Add ones to the X data matrix\n",
    "    X = np.concatenate([np.ones((m, 1)), X], axis=1)\n",
    "    \n",
    "    p = np.argmax(sigmoid(X.dot(all_theta.T)), axis = 1)\n",
    "    \n",
    "    return p"
   ]
  },
  {
   "cell_type": "code",
   "execution_count": 7,
   "metadata": {},
   "outputs": [],
   "source": [
    "def predict(Theta1, Theta2, X):\n",
    "    #Predict the label of an input given a traine neural network\n",
    "    \n",
    "    if X.ndim == 1:\n",
    "        X = np.reshape(X, (-1,X.shape[0]))\n",
    "    \n",
    "    #Useful values\n",
    "    m = X.shape[0]\n",
    "    num_labels = Theta2.shape[0]\n",
    "    \n",
    "    #You need to return the following variables correctly\n",
    "    p = np.zeros((X.shape[0], 1))\n",
    "    \n",
    "    #Calculating for hidden layer a2 with parameters Theta1 and a1, where a1 contains bias unit and X\n",
    "    a1 = np.concatenate([np.ones((m, 1)), X], axis=1)\n",
    "    a2 = sigmoid(a1.dot(Theta1.T))\n",
    "    \n",
    "    #Calculating the output layer a3 (h) with parameters Theta2 and a2, where a2 contains bias unit and a2\n",
    "    a2 = np.concatenate([np.ones((m, 1)), a2], axis=1)\n",
    "    a3 = sigmoid(a2.dot(Theta2.T))\n",
    "    \n",
    "    #Prediction\n",
    "    p = np.argmax(a3, axis = 1)\n",
    "    \n",
    "    return p"
   ]
  },
  {
   "cell_type": "markdown",
   "metadata": {},
   "source": [
    "### 1. Multi-class Classification\n",
    "\n",
    "<p>For this exercise, you will use logistic regression and neural networks to recognize handwritten digits (from 0 to 9). Automated handwritten digit recognition is widely used today - from recognizing zip codes (postal codes) on mail envelopes to recognizing amounts written on bank checks. This exercise will show you how the methods you’ve learned can be used for this classiﬁcation task.</p>\n",
    "\n",
    "<p>In the ﬁrst part of the exercise, you will extend your previous implemention of logistic regression and apply it to one-vs-all classiﬁcation.</p>"
   ]
  },
  {
   "cell_type": "markdown",
   "metadata": {},
   "source": [
    "### 1.1 Dataset\n",
    "\n",
    "<p>You are given a data set in X.csv and y.csv that contains 5000 training examples of handwritten digits. There are 5000 training examples in the dataset, where each training example is a 20 pixel by 20 pixel grayscale image of the digit. Each pixel is represented by a ﬂoating point number indicating the grayscale intensity at that location. The 20 by 20 grid of pixels is “unrolled” into a 400-dimensional vector. Each of these training examples becomes a single row in our data matrix X. This gives us a 5000 by 400 matrix X where every row is a training example for a handwritten digit image.</p>\n",
    "\n",
    "<p>The second part of the training set is a 5000-dimensional vector y that contains labels for the training set.Therefore, a “0” digit is labeled as “10”, while the digits “1” to “9” are labeled as “1” to “9” in their natural order.</p>"
   ]
  },
  {
   "cell_type": "code",
   "execution_count": 8,
   "metadata": {},
   "outputs": [
    {
     "name": "stdout",
     "output_type": "stream",
     "text": [
      "Shape of X: (5000, 400)\n",
      "Shape of y: (5000,)\n"
     ]
    }
   ],
   "source": [
    "data = loadmat(os.path.join('ex3data1.mat'))\n",
    "X, y = data['X'], data['y'].ravel()\n",
    "y[y == 10] = 0\n",
    "\n",
    "print('Shape of X:', X.shape)\n",
    "print('Shape of y:', y.shape)"
   ]
  },
  {
   "cell_type": "code",
   "execution_count": 9,
   "metadata": {},
   "outputs": [],
   "source": [
    "#Setup the parameters you will use for this part of the exercise\n",
    "input_layer_size  = 400  #20x20 Input Images of Digits\n",
    "num_labels = 10  \n",
    "\n",
    "m, n = X.shape"
   ]
  },
  {
   "cell_type": "markdown",
   "metadata": {},
   "source": [
    "### 1.2 Visualize the data\n",
    "\n",
    "<p>You will begin by visualizing a subset of the training set. In this part, the code randomly selects selects 100 rows from X and passes those rows to the displayData() function. This function maps each row to a 20 pixel by 20 pixel grayscale image and displays the images together. We have provided the displayData function, and you are encouraged to examine the code to see how it works."
   ]
  },
  {
   "cell_type": "code",
   "execution_count": 10,
   "metadata": {},
   "outputs": [
    {
     "name": "stdout",
     "output_type": "stream",
     "text": [
      "Visualizing data....\n"
     ]
    },
    {
     "data": {
      "image/png": "[encoded data removed]",
      "text/plain": [
       "<Figure size 432x288 with 1 Axes>"
      ]
     },
     "metadata": {
      "needs_background": "light"
     },
     "output_type": "display_data"
    },
    {
     "data": {
      "text/plain": [
       "(<matplotlib.image.AxesImage at 0x15773e476a0>,\n",
       " array([[-1., -1., -1., ..., -1., -1., -1.],\n",
       "        [-1.,  0.,  0., ...,  0.,  0., -1.],\n",
       "        [-1.,  0.,  0., ...,  0.,  0., -1.],\n",
       "        ...,\n",
       "        [-1.,  0.,  0., ...,  0.,  0., -1.],\n",
       "        [-1.,  0.,  0., ...,  0.,  0., -1.],\n",
       "        [-1., -1., -1., ..., -1., -1., -1.]]))"
      ]
     },
     "execution_count": 10,
     "metadata": {},
     "output_type": "execute_result"
    }
   ],
   "source": [
    "print('Visualizing data....')\n",
    "\n",
    "#Randomly select 100 data points to display\n",
    "#rand_indices = np.random.permutation(m)\n",
    "#sel = X[rand_indices[0:100], :]\n",
    "rand_indices = np.random.choice(m, 100)\n",
    "sel = X[rand_indices, :]\n",
    "\n",
    "displayData(sel)"
   ]
  },
  {
   "cell_type": "markdown",
   "metadata": {},
   "source": [
    "### 1.3 Vectorized Logistic Regression\n",
    "\n",
    "<p>You will be using multiple one-vs-all logistic regression models to build a multi-class classiﬁer. Since there are 10 classes, you will need to train 10 separate logistic regression classiﬁers. To make this training efficient, it is important to ensure that your code is well vectorized. In this section, you will implement a vectorized version of logistic regression that does not employ any for loops. You can use your code in the last exercise as a starting point for this exercise.</p>"
   ]
  },
  {
   "cell_type": "markdown",
   "metadata": {},
   "source": [
    "### 1.3.3 Vectorizing regularized cost function\n",
    "\n",
    "<p>After you have implemented vectorization for logistic regression, you will now add regularization to the cost function. Recall that for regularized logistic regression, the cost function is deﬁned as\n",
    "$$J(θ) = \\frac{1}{m} \\sum_{i=1}^m [y^ilog(h_\\theta(x^i)) - (1-y^i)log(1-h_\\theta(x^i))] + \\frac{\\lambda}{2m} \\sum_{j=1}^n \\theta^2_j$$.</p>\n",
    "<p>Note that you should not be regularizing $\\theta_0$ which is used for the bias term.</p>\n",
    "<p>Correspondingly, the partial derivative of regularized logistic regression cost for \\theta_j is deﬁned as</p>\n",
    "$$\\frac{\\partial J(θ)}{\\partial θ_j} = \\frac{1}{m} \\sum_{i=1}^m (h_\\theta(x^i))-y^i)x^i_j for j = 0$$\n",
    "$$\\frac{\\partial J(θ)}{\\partial θ_j} = \\frac{1}{m} \\sum_{i=1}^m (h_\\theta(x^i))-y^i)x^i_j + \\frac{\\lambda}{m} \\theta_j for j \\geq 1$$ \n",
    "\n",
    "$$X = \\begin{bmatrix} (x^1)^T \\\\ (x^2)^T \\\\ ... \\\\ (x^m)^T \\end{bmatrix}  and  \\theta = \\begin{bmatrix} \\theta_0 \\\\ \\theta_1 \\\\ ... \\\\ \\theta_n \\end{bmatrix}$$\n",
    "\n",
    "<p>Then, by computing the matrix product Xθ, we have</p>\n",
    "    \n",
    "$$X \\theta = \\begin{bmatrix} (x^1)^T\\theta \\\\ (x^2)^T\\theta \\\\ ... \\\\ (x^m)^T\\theta \\end{bmatrix} = \\begin{bmatrix} \\theta^T(x^1) \\\\ \\theta^T(x^2) \\\\ ... \\\\ \\theta^T(x^m) \\end{bmatrix}$$\n",
    "\n",
    "<p>In the last equality, we used the fact that $a^Tb$ = $b^Ta$ if a and b are vectors. This allows us to compute the products $θ^Tx^i$ for all our examples i in one line of code.</p>\n",
    "\n",
    "<p>Your job is to write the regularized cost function lrCostFunction(). Your implementation should use the strategy we presented above to calculate $θ^Tx^i$. You should also use a vectorized approach for the rest of the cost function. A fully vectorized version of lrCostFunction() should not contain any loops. (Hint: You might want to use the element-wise multiplication operation (.*) and the sum operation sum when writing this function)</p>"
   ]
  },
  {
   "cell_type": "code",
   "execution_count": 11,
   "metadata": {},
   "outputs": [],
   "source": [
    "# test values for the parameters theta\n",
    "theta_t = np.array([-2, -1, 1, 2], dtype=float)\n",
    "\n",
    "# test values for the inputs\n",
    "X_t = np.concatenate([np.ones((5, 1)), np.arange(1, 16).reshape(5, 3, order='F')/10.0], axis=1)\n",
    "\n",
    "# test values for the labels\n",
    "y_t = np.array([1, 0, 1, 0, 1])\n",
    "\n",
    "# test value for the regularization parameter\n",
    "lambda_t = 3"
   ]
  },
  {
   "cell_type": "code",
   "execution_count": 12,
   "metadata": {},
   "outputs": [
    {
     "name": "stdout",
     "output_type": "stream",
     "text": [
      "Testing lrCostFunction() with regularization\n",
      "Cost:  2.534819396109744\n",
      "Expected cost: 2.534819\n",
      "Gradients: \n",
      "[ 0.14656137 -0.54855841  0.72472227  1.39800296]\n",
      "Expected gradients: 0.146561\n",
      " -0.548558\n",
      " 0.724722\n",
      " 1.398003\n"
     ]
    }
   ],
   "source": [
    "#Test case for lrCostFunction\n",
    "print('Testing lrCostFunction() with regularization')\n",
    "\n",
    "J, grad = lrCostFunction(theta_t, X_t, y_t, lambda_t)\n",
    "\n",
    "print('Cost: ', J)\n",
    "print('Expected cost: 2.534819')\n",
    "print('Gradients: ')\n",
    "print(grad)\n",
    "print('Expected gradients: 0.146561\\n -0.548558\\n 0.724722\\n 1.398003')"
   ]
  },
  {
   "cell_type": "markdown",
   "metadata": {},
   "source": [
    "### 1.4 One-vs-all Classification\n",
    "\n",
    "<p>In this part of the exercise, you will implement one-vs-all classiﬁcation by training multiple regularized logistic regression classiﬁers, one for each of the K classes in our dataset shown above. In the handwritten digits dataset, K = 10, but your code should work for any value of K.</p>\n",
    "\n",
    "<p>You should now complete the code in oneVsAll() to train one classiﬁer for each class. In particular, your code should return all the classiﬁer parameters in a matrix $\\Theta ∈ R^{K×(N+1)}$, where each row of $\\Theta$ corresponds to the learned logistic regression parameters for one class. You can do this with a “for”-loop from 1 to K, training each classiﬁer independently.</p>\n",
    "\n",
    "<p>Note that the y argument to this function is a vector of labels from 1 to 10, where we have mapped the digit “0” to the label 10 (to avoid confusions with indexing).</p>\n",
    "\n",
    "<p>When training the classiﬁer for class k ∈{1,...,K}, you will want a m-dimensional vector of labels y, where $y_j$ ∈ 0,1 indicates whether the j-th training instance belongs to class k ($y_j$ = 1), or if it belongs to a different class ($y_j$ = 0). You may ﬁnd logical arrays helpful for this task.</p>"
   ]
  },
  {
   "cell_type": "code",
   "execution_count": 13,
   "metadata": {},
   "outputs": [
    {
     "name": "stdout",
     "output_type": "stream",
     "text": [
      "Training One-vs-All Logistic Regression...\n"
     ]
    }
   ],
   "source": [
    "print('Training One-vs-All Logistic Regression...')\n",
    "lambda_ = 0.1\n",
    "all_theta = oneVsAll(X, y, num_labels, lambda_)"
   ]
  },
  {
   "cell_type": "code",
   "execution_count": 14,
   "metadata": {},
   "outputs": [
    {
     "data": {
      "text/plain": [
       "array([[-4.63074827],\n",
       "       [-1.89495995],\n",
       "       [-3.01996926],\n",
       "       [-4.43083417],\n",
       "       [-1.84835333]])"
      ]
     },
     "execution_count": 14,
     "metadata": {},
     "output_type": "execute_result"
    }
   ],
   "source": [
    "all_theta[0:5,:1]"
   ]
  },
  {
   "cell_type": "markdown",
   "metadata": {},
   "source": [
    "### 1.4.1 One-vs-all Prediction\n",
    "\n",
    "<p>After training your one-vs-all classiﬁer, you can now use it to predict the digit contained in a given image. For each input, you should compute the “probability” that it belongs to each class using the trained logistic regression classiﬁers. Your one-vs-all prediction function will pick the class for which the corresponding logistic regression classiﬁer outputs the highest probability and return the class label (1, 2,..., or K) as the prediction for the input example.</p>\n",
    "\n",
    "<p>You should now complete the code in predictOneVsAll() to use the one-vs-all classiﬁer to make predictions.</p>\n",
    "\n",
    "<p>Once you are done, call your predictOneVsAll() function using the learned value of $\\Theta$. You should see that the training set accuracy is about 93.3% (i.e., it classiﬁes 93.3% of the examples in the training set correctly)."
   ]
  },
  {
   "cell_type": "code",
   "execution_count": 15,
   "metadata": {},
   "outputs": [],
   "source": [
    "pred = predictOneVsAll(all_theta, X)"
   ]
  },
  {
   "cell_type": "code",
   "execution_count": 16,
   "metadata": {},
   "outputs": [
    {
     "name": "stdout",
     "output_type": "stream",
     "text": [
      "Training Set Accuracy: 93.30%\n"
     ]
    }
   ],
   "source": [
    "#print('Training set accuracy: ', np.mean(pred == y)*100)\n",
    "print('Training Set Accuracy: {:.2f}%'.format(np.mean(pred == y) * 100))"
   ]
  },
  {
   "cell_type": "markdown",
   "metadata": {},
   "source": [
    "### 2. Neural Networks\n",
    "\n",
    "<p>In the previous part of this exercise, you implemented multi-class logistic regression to recognize handwritten digits. However, logistic regression cannot form more complex hypotheses as it is only a linear classiﬁer.</p>\n",
    "\n",
    "<p>In this part of the exercise, you will implement a neural network to recognize handwritten digits using the same training set as before. The neural network will be able to represent complex models that form non-linear hypotheses. For this week, you will be using parameters from a neural network that we have already trained. Your goal is to implement the feedforward propagation algorithm to use our weights for prediction. In next week’s exercise, you will write the backpropagation algorithm for learning the neural network parameters.</p>"
   ]
  },
  {
   "cell_type": "markdown",
   "metadata": {},
   "source": [
    "### 2.1 Model representation\n",
    "\n",
    "<p>Our neural network is shown below. It has 3 layers – an input layer, a hidden layer and an output layer. Recall that our inputs are pixel values of digit images. Since the images are of size 20×20, this gives us 400 input layer units (excluding the extra bias unit which always outputs +1). As before, the training data will be loaded into the variables X and y.</p>\n",
    "\n",
    "<p>You have been provided with a set of network parameters ($\\Theta^1$, $\\Theta^2$) already trained by us. These are stored in ex3weights.mat and will be loaded into Theta1 and Theta2 The parameters have dimensions that are sized for a neural network with 25 units in the second layer and 10 output units (corresponding to the 10 digit classes).</p>\n",
    "\n",
    "<img src = \"nn model.png\"/>"
   ]
  },
  {
   "cell_type": "code",
   "execution_count": 17,
   "metadata": {},
   "outputs": [],
   "source": [
    "#Setup the parameters you will use for this exercise\n",
    "input_layer_size = 400 #20 X 20 input images of digits\n",
    "hidden_layer_size = 25 #25 hidden units\n",
    "num_labels = 10 #10 labels, from 1 to 10 (0 mapped to label 10)"
   ]
  },
  {
   "cell_type": "code",
   "execution_count": 18,
   "metadata": {},
   "outputs": [],
   "source": [
    "data = loadmat(os.path.join('ex3data1.mat'))\n",
    "X, y = data['X'], data['y'].ravel()\n",
    "y[y == 10] = 0\n",
    "\n",
    "m, n = X.shape"
   ]
  },
  {
   "cell_type": "code",
   "execution_count": 19,
   "metadata": {},
   "outputs": [
    {
     "name": "stdout",
     "output_type": "stream",
     "text": [
      "Visualizing data....\n"
     ]
    },
    {
     "data": {
      "image/png": "[encoded data removed]",
      "text/plain": [
       "<Figure size 432x288 with 1 Axes>"
      ]
     },
     "metadata": {
      "needs_background": "light"
     },
     "output_type": "display_data"
    },
    {
     "data": {
      "text/plain": [
       "(<matplotlib.image.AxesImage at 0x15773eedeb8>,\n",
       " array([[-1., -1., -1., ..., -1., -1., -1.],\n",
       "        [-1.,  0.,  0., ...,  0.,  0., -1.],\n",
       "        [-1.,  0.,  0., ...,  0.,  0., -1.],\n",
       "        ...,\n",
       "        [-1.,  0.,  0., ...,  0.,  0., -1.],\n",
       "        [-1.,  0.,  0., ...,  0.,  0., -1.],\n",
       "        [-1., -1., -1., ..., -1., -1., -1.]]))"
      ]
     },
     "execution_count": 19,
     "metadata": {},
     "output_type": "execute_result"
    }
   ],
   "source": [
    "print('Visualizing data....')\n",
    "\n",
    "#Randomly select 100 data points to display\n",
    "#rand_indices = np.random.permutation(m)\n",
    "#sel = X[rand_indices[0:100], :]\n",
    "rand_indices = np.random.choice(m, 100)\n",
    "sel = X[rand_indices, :]\n",
    "\n",
    "displayData(sel)"
   ]
  },
  {
   "cell_type": "code",
   "execution_count": 20,
   "metadata": {},
   "outputs": [
    {
     "name": "stdout",
     "output_type": "stream",
     "text": [
      "Loading saved neural network parameters...\n"
     ]
    }
   ],
   "source": [
    "#Loading Parameters\n",
    "print('Loading saved neural network parameters...')\n",
    "\n",
    "# Load the .mat file, which returns a dictionary \n",
    "weights = loadmat(os.path.join('ex3weights.mat'))\n",
    "\n",
    "# get the model weights from the dictionary\n",
    "# Theta1 has size 25 x 401\n",
    "# Theta2 has size 10 x 26\n",
    "Theta1, Theta2 = weights['Theta1'], weights['Theta2']\n",
    "\n",
    "# swap first and last columns of Theta2, due to legacy from MATLAB indexing, \n",
    "# since the weight file ex3weights.mat was saved based on MATLAB indexing\n",
    "Theta2 = np.roll(Theta2, 1, axis=0)"
   ]
  },
  {
   "cell_type": "markdown",
   "metadata": {},
   "source": [
    "### 2.2 Feedforward Propagation and Prediction\n",
    "\n",
    "<p>Now you will implement feedforward propagation for the neural network. You will need to complete the code in predict.m to return the neural network’s prediction.</p>\n",
    "\n",
    "<p>You should implement the feedforward computation that computes $h_\\theta(x^i)$ for every example i and returns the associated predictions. Similar to the one-vs-all classiﬁcation strategy, the prediction from the neural network will be the label that has the largest output $(h_\\theta(x))_k$.</p>\n",
    "\n",
    "<p>Once you are done, call your predict function using the loaded set of parameters for Theta1 and Theta2. You should see that the accuracy is about 97.5%. After that, an interactive sequence will launch displaying images from the training set one at a time, while the console prints out the predicted label for the displayed image. To stop the image sequence, press Ctrl-C.</p>"
   ]
  },
  {
   "cell_type": "markdown",
   "metadata": {},
   "source": [
    "<b>Implementation Note</b>:\n",
    "<p>The matrix X contains the examples in rows. When you complete the code in predict(), you will need to add the column of 1’s to the matrix. The matrices Theta1 and Theta2 contain the parameters for each unit in rows. Speciﬁcally, the ﬁrst row of Theta1 corresponds to the ﬁrst hidden unit in the second layer. When you compute $z^2 = \\Theta^1*a^1$, be sure that you index (and if necessary, transpose) X correctly so that you get $a^l$ as a column vector.</p>"
   ]
  },
  {
   "cell_type": "code",
   "execution_count": 21,
   "metadata": {},
   "outputs": [],
   "source": [
    "pred = predict(Theta1, Theta2, X)"
   ]
  },
  {
   "cell_type": "code",
   "execution_count": 22,
   "metadata": {},
   "outputs": [
    {
     "name": "stdout",
     "output_type": "stream",
     "text": [
      "Training set accuracy: 97.52%\n"
     ]
    }
   ],
   "source": [
    "print('Training set accuracy: {:.2f}%'.format(np.mean(pred == y) * 100))"
   ]
  },
  {
   "cell_type": "markdown",
   "metadata": {},
   "source": [
    "To give you an idea of the network's output, you can also run through the examples one at a time to see what it is predicting."
   ]
  },
  {
   "cell_type": "code",
   "execution_count": 23,
   "metadata": {},
   "outputs": [
    {
     "name": "stdout",
     "output_type": "stream",
     "text": [
      "Displaying Image\n"
     ]
    },
    {
     "data": {
      "image/png": "[encoded data removed]",
      "text/plain": [
       "<Figure size 432x288 with 1 Axes>"
      ]
     },
     "metadata": {
      "needs_background": "light"
     },
     "output_type": "display_data"
    },
    {
     "name": "stdout",
     "output_type": "stream",
     "text": [
      "Neural Network Prediction: 6 (digit 6)\n",
      "Paused - press enter to continue, q to exit:\n",
      "Displaying Image\n"
     ]
    },
    {
     "data": {
      "image/png": "[encoded data removed]",
      "text/plain": [
       "<Figure size 432x288 with 1 Axes>"
      ]
     },
     "metadata": {
      "needs_background": "light"
     },
     "output_type": "display_data"
    },
    {
     "name": "stdout",
     "output_type": "stream",
     "text": [
      "Neural Network Prediction: 9 (digit 9)\n",
      "Paused - press enter to continue, q to exit:\n",
      "Displaying Image\n"
     ]
    },
    {
     "data": {
      "image/png": "[encoded data removed]",
      "text/plain": [
       "<Figure size 432x288 with 1 Axes>"
      ]
     },
     "metadata": {
      "needs_background": "light"
     },
     "output_type": "display_data"
    },
    {
     "name": "stdout",
     "output_type": "stream",
     "text": [
      "Neural Network Prediction: 1 (digit 1)\n",
      "Paused - press enter to continue, q to exit:q\n"
     ]
    }
   ],
   "source": [
    "#Randomly permute examples\n",
    "rp = np.random.permutation(m)\n",
    "\n",
    "for i in range(1, m+1):\n",
    "    #Display\n",
    "    print('Displaying Image')\n",
    "    displayData(X[rp[i], :])\n",
    "    \n",
    "    pred = predict(Theta1, Theta2, X[rp[i], :])\n",
    "    print('Neural Network Prediction: {:d} (digit {:d})'.format(pred[0], (pred)[0]))\n",
    "    \n",
    "    #Pause with quit option\n",
    "    s = input('Paused - press enter to continue, q to exit:')\n",
    "    if s == 'q':\n",
    "        break"
   ]
  },
  {
   "cell_type": "code",
   "execution_count": null,
   "metadata": {},
   "outputs": [],
   "source": []
  }
 ],
 "metadata": {
  "kernelspec": {
   "display_name": "Python 3",
   "language": "python",
   "name": "python3"
  },
  "language_info": {
   "codemirror_mode": {
    "name": "ipython",
    "version": 3
   },
   "file_extension": ".py",
   "mimetype": "text/x-python",
   "name": "python",
   "nbconvert_exporter": "python",
   "pygments_lexer": "ipython3",
   "version": "3.7.3"
  }
 },
 "nbformat": 4,
 "nbformat_minor": 2
}
