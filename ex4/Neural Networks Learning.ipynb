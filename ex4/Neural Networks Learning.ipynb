{
 "cells": [
  {
   "cell_type": "markdown",
   "metadata": {},
   "source": [
    "# Programming Exercise 4: Neural Networks Learning"
   ]
  },
  {
   "cell_type": "code",
   "execution_count": 1,
   "metadata": {},
   "outputs": [],
   "source": [
    "import numpy as np\n",
    "import pandas as pd\n",
    "\n",
    "import scipy.optimize as opt\n",
    "\n",
    "import os\n",
    "from scipy.io import loadmat\n",
    "\n",
    "import seaborn as sns\n",
    "import matplotlib.pyplot as plt\n",
    "%matplotlib inline"
   ]
  },
  {
   "cell_type": "markdown",
   "metadata": {},
   "source": [
    "### Necessary Functions"
   ]
  },
  {
   "cell_type": "code",
   "execution_count": 2,
   "metadata": {},
   "outputs": [],
   "source": [
    "def displayData(X, example_width=None):\n",
    "    #Displays 2D data stored in X in a nice grid. It returns the figure handle h and the displayed array if requested\n",
    "    \n",
    "    plt.close()\n",
    "    \n",
    "    #Create a new figure\n",
    "    plt.figure()\n",
    "    \n",
    "    if X.ndim == 1:\n",
    "        X = np.reshape(X, (-1,X.shape[0]))\n",
    "    \n",
    "    # Gray Image\n",
    "    plt.set_cmap(\"gray\")    \n",
    "    \n",
    "    #Set example_width automatically if not passed in\n",
    "    if (not example_width) or not 'example_width' in locals():\n",
    "        example_width = int(np.round(np.sqrt(X.shape[1])))\n",
    "    \n",
    "    #Gray image\n",
    "    \n",
    "    \n",
    "    #Compute rows, cols\n",
    "    m, n = X.shape\n",
    "    example_height = int((n/example_width))\n",
    "    \n",
    "    #Compute number of items to display\n",
    "    display_rows = int(np.floor(np.sqrt(m)))\n",
    "    display_cols = int(np.ceil(m/display_rows))\n",
    "    \n",
    "    #Between images padding\n",
    "    pad = 1\n",
    "    \n",
    "    #Setup blank display\n",
    "    display_array = - np.ones([pad + int(display_rows) * (int(example_height) + pad), \n",
    "                               pad + int(display_cols) * (int(example_width) + pad)])\n",
    "    \n",
    "    #Copy each example into a patch on the display array\n",
    "    curr_ex = 1\n",
    "    for j in range(1, int(display_rows)+1):\n",
    "        for i in range(1, int(display_cols)+1):\n",
    "            if (curr_ex > m):\n",
    "                break;\n",
    "            \n",
    "            #Copy the patch\n",
    "            \n",
    "            #Get the maximum value of the patch\n",
    "            max_val = max(abs(X[curr_ex-1, :]))\n",
    "            rows = pad + (j - 1) * (example_height + pad) + np.array(range(example_height))\n",
    "            cols = pad + (i - 1) * (example_width  + pad) + np.array(range(example_width))\n",
    "            display_array[rows[0]:rows[-1]+1 , cols[0]:cols[-1]+1] = np.reshape(X[curr_ex-1, :], (example_height, example_width), order=\"F\") / max_val\n",
    "            curr_ex = curr_ex + 1\n",
    "            \n",
    "        if (curr_ex > m):\n",
    "            break\n",
    "    \n",
    "    #Display Image\n",
    "    h = plt.imshow(display_array, vmin=-1, vmax=1)\n",
    "    \n",
    "    #Do not show axis\n",
    "    plt.axis('off')\n",
    "    \n",
    "    plt.show(block = False)\n",
    "    \n",
    "    return h, display_array"
   ]
  },
  {
   "cell_type": "code",
   "execution_count": 3,
   "metadata": {},
   "outputs": [],
   "source": [
    "def sigmoid(z):\n",
    "    #g = SIGMOID(z) computes the sigmoid of z.\n",
    "    \n",
    "    from scipy.special import expit\n",
    "    #Computation\n",
    "    g = np.zeros(np.shape(z))\n",
    "    #g = 1/(1+np.exp(-z))\n",
    "    \n",
    "    g = expit(z)\n",
    "    \n",
    "    return g"
   ]
  },
  {
   "cell_type": "code",
   "execution_count": 4,
   "metadata": {},
   "outputs": [],
   "source": [
    "def nnCostFunction(nn_params, input_layer_size, hidden_layer_size, num_labels, X, y, lambda_):\n",
    "    \n",
    "    #Setup up variables\n",
    "    m = X.shape[0]\n",
    "    Theta1 = np.reshape(nn_params[:hidden_layer_size * (input_layer_size + 1)], \n",
    "                        (hidden_layer_size, input_layer_size + 1), order='F')\n",
    "\n",
    "    Theta2 = np.reshape(nn_params[hidden_layer_size * (input_layer_size + 1):], \n",
    "                        (num_labels, hidden_layer_size + 1), order='F')\n",
    "    \n",
    "    #Return the following variables correctly\n",
    "    J = 0\n",
    "    Theta1_grad = np.zeros(Theta1.shape)\n",
    "    Theta2_grad = np.zeros(Theta2.shape)\n",
    "    \n",
    "    \n",
    "    #Part 1: Feedforward the NN and return cost in the variable J. After completing part 1, verify that the cost computation is correct.\n",
    "    I = np.eye(num_labels)\n",
    "    Y = np.zeros((m, num_labels))\n",
    "    for i in range(m):\n",
    "        Y[i,:] = I[y[i], :]\n",
    "    \n",
    "    #Calculating for hidden layer a2 with parameters Theta1 and a1, where a1 contains bias unit and X\n",
    "    a1 = np.concatenate([np.ones((m, 1)), X], axis=1)#a1.shape = (5000, 401) = input layer with bias unit\n",
    "    a2 = sigmoid(a1.dot(Theta1.T)) #shape = (5000, 25)\n",
    "    \n",
    "    #Calculating the output layer a3 (h) with parameters Theta2 and a2, where a2 contains bias unit and a2\n",
    "    a2 = np.concatenate([np.ones((m, 1)), a2], axis=1)#a2.shape = (5000, 26) = input layer with bias unit\n",
    "    a3 = sigmoid(a2.dot(Theta2.T)) #shape = (5000, 10)\n",
    "    \n",
    "    J = np.sum((np.sum(-Y*np.log(a3) - (1-Y)*np.log(1-a3),1)))/m\n",
    "    \n",
    "    #Regularization\n",
    "    reg = (np.sum(np.sum((Theta1[:,1:]**2),1)) + np.sum(np.sum((Theta2[:,1:]**2),1))) * lambda_/(2*m)\n",
    "    J = J+reg\n",
    "    \n",
    "    '''\n",
    "    Part 2: Implement the backpropagation algorithm to compute the gradients\n",
    "         Theta1_grad and Theta2_grad. You should return the partial derivatives of\n",
    "         the cost function with respect to Theta1 and Theta2 in Theta1_grad and\n",
    "         Theta2_grad, respectively. After implementing Part 2, you can check\n",
    "         that your implementation is correct by running checkNNGradients\n",
    "\n",
    "         Note: The vector y passed into the function is a vector of labels\n",
    "               containing values from 1..K. You need to map this vector into a \n",
    "               binary vector of 1's and 0's to be used with the neural network\n",
    "               cost function.\n",
    "\n",
    "         Hint: We recommend implementing backpropagation using a for-loop\n",
    "               over the training examples if you are implementing it for the \n",
    "               first time.\n",
    "    '''\n",
    "    \n",
    "    #%% BACKPROPAGATION\n",
    "    delta_3 = a3-Y  #shape = (5000,10)\n",
    "    a1_shape= (a1.dot(Theta1.T)).shape[0]\n",
    "    delta_2 = ((delta_3.dot(Theta2))*(sigmoidGradient(np.concatenate([np.ones((a1_shape, 1)), a1.dot(Theta1.T)], axis=1))))[:,1:]  #shape = (5000,25)\n",
    "    \n",
    "    #((a1.T).dot(delta_2)).shape = (401,25)\n",
    "    D1=(a1.T).dot(delta_2)  #shape = (401,25)\n",
    "    D2=(a2.T).dot(delta_3)  #shape = (26,10)\n",
    "    \n",
    "    Theta1_grad = D1/m   #shape = (401,25)\n",
    "    Theta2_grad = D2/m   #shape = (26,10)\n",
    "    \n",
    "    Theta1_grad = Theta1_grad.T + (lambda_/m)*(np.concatenate([np.zeros((Theta1.shape[0],1)), Theta1[:,1:]], axis=1)) #shape = (25,401)\n",
    "    Theta2_grad = Theta2_grad.T + (lambda_/m)*(np.concatenate([np.zeros((Theta2.shape[0],1)), Theta2[:,1:]], axis=1)) #shape = (10,26)\n",
    "\n",
    "    \n",
    "    # Unroll gradients\n",
    "    grad = np.concatenate((Theta1_grad.reshape(Theta1_grad.size, order='F'), Theta2_grad.reshape(Theta2_grad.size, order='F')))\n",
    "    \n",
    "    return J, grad"
   ]
  },
  {
   "cell_type": "code",
   "execution_count": 5,
   "metadata": {},
   "outputs": [],
   "source": [
    "def sigmoidGradient(z):\n",
    "    \n",
    "    #Computation\n",
    "    g = np.zeros(np.shape(z))\n",
    "    \n",
    "    g = sigmoid(z)*(1-sigmoid(z))\n",
    "    \n",
    "    return g"
   ]
  },
  {
   "cell_type": "code",
   "execution_count": 6,
   "metadata": {},
   "outputs": [],
   "source": [
    "def randInitializeWeights(L_in, L_out):\n",
    "    '''\n",
    "    RANDINITIALIZEWEIGHTS Randomly initialize the weights of a layer with L_in\n",
    "    incoming connections and L_out outgoing connections\n",
    "       W = RANDINITIALIZEWEIGHTS(L_in, L_out) randomly initializes the weights \n",
    "        of a layer with L_in incoming connections and L_out outgoing connections. \n",
    "        \n",
    "       Note that W should be set to a matrix of size(L_out, 1 + L_in) as the first column of W handles the \"bias\" terms\n",
    "    '''\n",
    "    \n",
    "    #You need to return the following variables correctly\n",
    "    W = np.zeros((L_out,1+L_in))\n",
    "    \n",
    "    #Initialize W randomly so that we break the symmetry while training NN.\n",
    "    epsilon_init = 0.12\n",
    "    W = np.random.rand(L_out,1+L_in)*(2*epsilon_init) - epsilon_init\n",
    "    \n",
    "    return W"
   ]
  },
  {
   "cell_type": "code",
   "execution_count": 7,
   "metadata": {},
   "outputs": [],
   "source": [
    "def debugInitializeWeights(fan_out, fan_in):\n",
    "    \n",
    "    #W = DEBUGINITIALIZEWEIGHTS(fan_in, fan_out) initializes the weights of a layer with fan_in incoming connections and \n",
    "    #fan_out outgoing connections using a fix set of values\n",
    "    \n",
    "    #Set W to zeros\n",
    "    W = np.zeros((fan_out, 1+fan_in))\n",
    "    \n",
    "    #Initialize W using \"sin\", this ensures that W is always of the same values and will be useful for debugging\n",
    "    #W = np.reshape(np.sin(range(W.size)), W.shape) / 10\n",
    "    W = np.sin(np.arange(W.size)+1).reshape(W.shape) / 10\n",
    "    \n",
    "    return W"
   ]
  },
  {
   "cell_type": "code",
   "execution_count": 8,
   "metadata": {},
   "outputs": [],
   "source": [
    "def computeNumericalGradient(J, theta):\n",
    "    '''\n",
    "    Computes the numerical gradient of the function J around theta. Calling y = J(theta) should return the value at theta\n",
    "    \n",
    "    The following code implements numerical gradient checking, and returns the numerical gradient. It sets numgrad(i) to (a\n",
    "    numerical approx of) the partial derivative of J wrt the be the i-th input argument, evaluated at theta(ie numgrad(i)\n",
    "    should be the (approximately) the partial derivative of J wrt theta(i))\n",
    "    '''\n",
    "    \n",
    "    numgrad = np.zeros((theta.shape))\n",
    "    perturb = np.zeros((theta.shape))\n",
    "    e = 10**-4\n",
    "    for p in range(theta.size):\n",
    "        #Set the perturbation vector\n",
    "        perturb.reshape(perturb.size, order=\"F\")[p] = e\n",
    "        loss1, _ = J(theta - perturb)\n",
    "        loss2, _ = J(theta + perturb)\n",
    "        #Compute numerical gradient\n",
    "        numgrad.reshape(numgrad.size, order=\"F\")[p] = (loss2 - loss1)/(2*e)\n",
    "        perturb.reshape(perturb.size, order=\"F\")[p] = 0\n",
    "        \n",
    "    return numgrad"
   ]
  },
  {
   "cell_type": "code",
   "execution_count": 9,
   "metadata": {},
   "outputs": [],
   "source": [
    "def checkNNGradients(lambda_=0):\n",
    "    \n",
    "    from numpy import linalg\n",
    "    from decimal import Decimal\n",
    "    '''\n",
    "    CHECKNNGRADIENTS(lambda) Creates a small neural network to check the backpropagation gradients, it will output the \n",
    "    analytical gradients produced by your backprop code and the numerical gradients (computed using computeNumericalGradient).\n",
    "    These two gradient computations should result in very similar values.\n",
    "    '''\n",
    "        \n",
    "    input_layer_size = 3\n",
    "    hidden_layer_size = 5\n",
    "    num_lables = 3\n",
    "    m = 5\n",
    "    \n",
    "    #We generate some random test data\n",
    "    Theta1 = debugInitializeWeights(hidden_layer_size, input_layer_size)\n",
    "    Theta2 = debugInitializeWeights(num_labels, hidden_layer_size)\n",
    "    \n",
    "    #Reuse debugInitializeWeights to generate X\n",
    "    X = debugInitializeWeights(m, input_layer_size-1)\n",
    "    y = 1 + np.mod(range(m), num_labels).T\n",
    "    \n",
    "    #Unroll parameters\n",
    "    nn_params = np.concatenate((Theta1.reshape(Theta1.size, order='F'), Theta2.reshape(Theta2.size, order='F')))\n",
    "    \n",
    "    #Short hand for cost function\n",
    "    def costFunc(p):\n",
    "        return nnCostFunction(p, input_layer_size, hidden_layer_size, num_labels, X, y, lambda_)\n",
    "    \n",
    "    cost, grad = costFunc(nn_params)\n",
    "    numgrad = computeNumericalGradient(costFunc, nn_params)\n",
    "    \n",
    "    #Visually examine the two gradient computations. The two columns you get should be very similar.\n",
    "    fmt = '{:<25}{}'\n",
    "    print(fmt.format('Numerical Gradient', 'Analytical Gradient'))\n",
    "    for numerical, analytical in zip(numgrad, grad):\n",
    "        print(fmt.format(numerical, analytical))\n",
    "        \n",
    "    print('The above two columns you get should be very similar...')\n",
    "    print('Left-Your numerical gradient, Right- Analytical gradient')\n",
    "    \n",
    "    #Evaluate the norm of the difference between two solutions. If you have correct implementation, and assuming you used\n",
    "    #10**-4 epsilon in computeNumericalGradient(), then difference below should be less than 10**-9\n",
    "    diff = Decimal(np.linalg.norm(numgrad-grad))/Decimal(np.linalg.norm(numgrad+grad))\n",
    "    \n",
    "    print('If you backpropagation implementation is correct, then the relative difference will be small (less than 1e-9).')\n",
    "    print('Relative difference:',diff)"
   ]
  },
  {
   "cell_type": "code",
   "execution_count": 32,
   "metadata": {},
   "outputs": [],
   "source": [
    "def predict(Theta1, Theta2, X):\n",
    "    \n",
    "    #Predict the label of an input given a trained neural network\n",
    "    #p = PREDICT(Theta1, Theta2, X) outputs the predicted label of X given the trained weights of a neural network\n",
    "    \n",
    "    #Useful values\n",
    "    m = X.shape[0]\n",
    "    num_labels = Theta2.shape[0]\n",
    "    \n",
    "    #You need to return the following variables correctly\n",
    "    p = np.zeros((m, 1))\n",
    "    \n",
    "    a1 = np.concatenate([np.ones((m, 1)), X], axis=1)\n",
    "    a2 = sigmoid(a1.dot(Theta1.T))\n",
    "    \n",
    "    a2 = np.concatenate([np.ones((m, 1)), a2], axis=1)\n",
    "    a3 = sigmoid(a2.dot(Theta2.T))\n",
    "    \n",
    "    #Prediction\n",
    "    p = np.argmax(a3, axis = 1)\n",
    "    \n",
    "    return p"
   ]
  },
  {
   "cell_type": "markdown",
   "metadata": {},
   "source": [
    "## 1. Neural Networks\n",
    "\n",
    "<p>In the previous exercise, you implemented feedforward propagation for neural networks and used it to predict handwritten digits with the weights we provided. In this exercise, you will implement the backpropagation algorithm to learn the parameters for the neural network.</p>"
   ]
  },
  {
   "cell_type": "markdown",
   "metadata": {},
   "source": [
    "### 1.1 Visualizing the data\n",
    "\n",
    "<p>In the ﬁrst part, the code will load the data and display it on a 2-dimensional plot (Figure 1) by calling the function displayData().</p>\n",
    "\n",
    "<img src = \"Figure 1.png\"/>"
   ]
  },
  {
   "cell_type": "code",
   "execution_count": 10,
   "metadata": {},
   "outputs": [],
   "source": [
    "#Setup the parameters you will use for this exercise\n",
    "input_layer_size = 400 #20 X 20 input images of digits\n",
    "hidden_layer_size = 25 #25 hidden units\n",
    "num_labels = 10 #10 labels, from 1 to 10 (0 mapped to label 10)"
   ]
  },
  {
   "cell_type": "code",
   "execution_count": 11,
   "metadata": {},
   "outputs": [
    {
     "name": "stdout",
     "output_type": "stream",
     "text": [
      "(5000, 400) (5000,)\n"
     ]
    }
   ],
   "source": [
    "data = loadmat(os.path.join('ex4data1.mat'))\n",
    "X, y = data['X'], data['y'].ravel()\n",
    "y[y == 10] = 0\n",
    "\n",
    "m, n = X.shape\n",
    "print(X.shape, y.shape)"
   ]
  },
  {
   "cell_type": "code",
   "execution_count": 12,
   "metadata": {},
   "outputs": [
    {
     "name": "stdout",
     "output_type": "stream",
     "text": [
      "Visualizing data....\n"
     ]
    },
    {
     "data": {
      "image/png": "[encoded data removed]",
      "text/plain": [
       "<Figure size 432x288 with 1 Axes>"
      ]
     },
     "metadata": {
      "needs_background": "light"
     },
     "output_type": "display_data"
    },
    {
     "data": {
      "text/plain": [
       "(<matplotlib.image.AxesImage at 0x1fc9544f1c8>,\n",
       " array([[-1., -1., -1., ..., -1., -1., -1.],\n",
       "        [-1.,  0.,  0., ...,  0.,  0., -1.],\n",
       "        [-1.,  0.,  0., ...,  0.,  0., -1.],\n",
       "        ...,\n",
       "        [-1.,  0.,  0., ...,  0.,  0., -1.],\n",
       "        [-1.,  0.,  0., ...,  0.,  0., -1.],\n",
       "        [-1., -1., -1., ..., -1., -1., -1.]]))"
      ]
     },
     "execution_count": 12,
     "metadata": {},
     "output_type": "execute_result"
    }
   ],
   "source": [
    "print('Visualizing data....')\n",
    "\n",
    "#Randomly select 100 data points to display\n",
    "#rand_indices = np.random.permutation(m)\n",
    "#sel = X[rand_indices[0:100], :]\n",
    "rand_indices = np.random.choice(m, 100)\n",
    "sel = X[rand_indices, :]\n",
    "\n",
    "displayData(sel)"
   ]
  },
  {
   "cell_type": "markdown",
   "metadata": {},
   "source": [
    "<p>This is the same dataset that we used in the previous exercise. There are 5000 training examples in ex4data1.mat, where each training example is a 20 pixel by 20 pixel grayscale image of the digit. Each pixel is represented by a ﬂoating point number indicating the grayscale intensity at that location. The 20 by 20 grid of pixels is “unrolled” into a 400-dimensional vector. Each of these training examples becomes a single row in our data matrix X. This gives us a 5000 by 400 matrix X where every row is a training example for a handwritten digit image.</p>\n",
    "\n",
    "$$X = \\begin{bmatrix} (x^1)^T \\\\ (x^2)^T \\\\ ... \\\\ (x^m)^T \\end{bmatrix}$$\n",
    "\n",
    "<p>The second part of the training set is a 5000-dimensional vector y that contains labels for the training set. To make things more compatible, where there is no zero index, we have mapped the digit zero to the value ten. Therefore, a “0” digit is labeled as “10”, while the digits “1” to “9” are labeled as “1” to “9” in their natural order.</p>"
   ]
  },
  {
   "cell_type": "markdown",
   "metadata": {},
   "source": [
    "### 1.2 Model Representation\n",
    "\n",
    "<p>Our neural network is shown in Figure 2. It has 3 layers – an input layer, a hidden layer and an output layer. Recall that our inputs are pixel values of digit images. Since the images are of size 20×20, this gives us 400 input layer units (not counting the extra bias unit which always outputs +1). The training data will be loaded into the variables X and y.</p>\n",
    "\n",
    "<p>You have been provided with a set of network parameters ($\\theta(1), \\theta(2)$) already trained by us. These are stored in ex4weights.mat and will be loaded into Theta1 and Theta2. The parameters have dimensions that are sized for a neural network with 25 units in the second layer and 10 output units (corresponding to the 10 digit classes).</p>\n",
    "\n",
    "<img src=\"Figure 2.png\">"
   ]
  },
  {
   "cell_type": "code",
   "execution_count": 13,
   "metadata": {},
   "outputs": [
    {
     "name": "stdout",
     "output_type": "stream",
     "text": [
      "Loading saved neural network parameters...\n",
      "(25, 401) (10, 26)\n"
     ]
    }
   ],
   "source": [
    "#Loading Parameters\n",
    "print('Loading saved neural network parameters...')\n",
    "\n",
    "# Load the .mat file, which returns a dictionary \n",
    "weights = loadmat(os.path.join('ex4weights.mat'))\n",
    "\n",
    "# get the model weights from the dictionary\n",
    "# Theta1 has size 25 x 401\n",
    "# Theta2 has size 10 x 26\n",
    "Theta1, Theta2 = weights['Theta1'], weights['Theta2']\n",
    "\n",
    "# swap first and last columns of Theta2, due to legacy from MATLAB indexing, \n",
    "# since the weight file ex3weights.mat was saved based on MATLAB indexing\n",
    "Theta2 = np.roll(Theta2, 1, axis=0)\n",
    "\n",
    "print(Theta1.shape, Theta2.shape)"
   ]
  },
  {
   "cell_type": "markdown",
   "metadata": {},
   "source": [
    "### 1.3 Feedforward and Cost Function\n",
    "\n",
    "<p>Now you will implement the cost function and gradient for the neural network. First, complete the code in nnCostFunction() to return the cost.</p>\n",
    "\n",
    "<p>Recall that the cost function for the neural network (without regularization) is</p>\n",
    "\n",
    "$$J(θ) = -\\frac{1}{m} \\sum_{i=1}^m \\sum_{k=1}^K [y_k^{(i)}log(h_\\theta(x^{(i)})) + (1-y_k^{(i)})log(1-h_\\theta(x^{(i)}))_k]$$\n",
    "\n",
    "<p>where $h_\\theta(x^{(i)})$ is computed as shown in the Figure 2 and K = 10 is the total number of possible labels. Note that $h_\\theta(x^{(i)})_k = a_k^{(3)}$ is the activation (output value) of the k-th output unit. Also, recall that whereas the original labels (in the variable y) were 1, 2, ..., 10, for the purpose of training a neural network, we need to recode the labels as vectors containing only values 0 or 1, so that</p>\n",
    "$$y = \\begin{bmatrix} 1 \\\\ 0 \\\\ 0 \\\\... \\\\ 0 \\end{bmatrix}, \\begin{bmatrix} 0 \\\\ 1 \\\\ 0 \\\\... \\\\ 0 \\end{bmatrix}, ... or \\begin{bmatrix} 0 \\\\ 0 \\\\ 0 \\\\... \\\\ 1 \\end{bmatrix}$$\n",
    "\n",
    "<p>For example, if $x^{(i)}$ is an image of the digit 5, then the corresponding $y^{(i)}$ (that you should use with the cost function) should be a 10-dimensional vector with $y_5$ = 1, and the other elements equal to 0.</p>\n",
    "\n",
    "<p>You should implement the feedforward computation that computes $h_\\theta(x^{(i)})$ for every example i and sum the cost over all examples. <b>Your code should also work for a dataset of any size, with any number of labels</b> (you can assume that there are always at least K ≥ 3 labels).</p>"
   ]
  },
  {
   "cell_type": "code",
   "execution_count": 14,
   "metadata": {},
   "outputs": [
    {
     "name": "stdout",
     "output_type": "stream",
     "text": [
      "Feedforward using neural network: \n",
      "Cost at parameters loaded by ex4weights is: (0.2876291651613189, array([ 6.18712766e-05,  9.38798109e-05, -1.92593606e-04, ...,\n",
      "       -9.84907927e-04,  1.27957448e-03,  1.35707295e-03])) \n",
      "(this value should be 0.287629)\n"
     ]
    }
   ],
   "source": [
    "print('Feedforward using neural network: ')\n",
    "\n",
    "#Regularization parameter set to 0\n",
    "lambda_ = 0\n",
    "\n",
    "nn_params = np.concatenate((Theta1.reshape(Theta1.size, order='F'), Theta2.reshape(Theta2.size, order='F')))\n",
    "J = nnCostFunction(nn_params, input_layer_size, hidden_layer_size, num_labels, X, y, lambda_)\n",
    "\n",
    "print('Cost at parameters loaded by ex4weights is:', J, '\\n(this value should be 0.287629)')"
   ]
  },
  {
   "cell_type": "markdown",
   "metadata": {},
   "source": [
    "### 1.4 Regularized Cost Function\n",
    "\n",
    "<p>The cost function for neural networks with regularization is given by</p>\n",
    "\n",
    "$$J(θ) = -\\frac{1}{m} \\sum_{i=1}^m \\sum_{k=1}^K [y_k^{(i)}log(h_\\theta(x^{(i)})) + (1-y_k^{(i)})log(1-h_\\theta(x^{(i)}))_k] + \\frac{\\lambda}{2m} [\\sum_{j=1}^{25} \\sum_{k=1}^{400} (\\theta^{(1)}_{j,k})^2 + \\sum_{j=1}^{10} \\sum_{k=1}^{25} (\\theta^{(2)}_{j,k})^2] $$\n",
    "\n",
    "<p>You can assume that the neural network will only have 3 layers – an input layer, a hidden layer and an output layer. However, your code should work for any number of input units, hidden units and outputs units. While we have explicitly listed the indices above for $\\theta^{(1)}$ and $\\theta^{(2)}$ for clarity, do note that <b>your code should in general work with $\\theta^{(1)}$ and $\\theta^{(2)}$ of any size.</b></p>\n",
    "\n",
    "<p>Note that you should not be regularizing the terms that correspond to the bias. For the matrices Theta1 and Theta2, this corresponds to the ﬁrst column of each matrix. You should now add regularization to your cost function. Notice that you can ﬁrst compute the unregularized cost function J using your existing nnCostFunction() and then later add the cost for the regularization terms.</p>\n",
    "\n",
    "<p>Once you are done, call your nnCostFunction() using the loaded set of parameters for Theta1 and Theta2, and λ = 1. You should see that the cost is about 0.383770.</p>"
   ]
  },
  {
   "cell_type": "code",
   "execution_count": 15,
   "metadata": {},
   "outputs": [
    {
     "name": "stdout",
     "output_type": "stream",
     "text": [
      "Checking cost function with regularization: \n",
      "Cost at parameters loaded by ex4weights is: (0.38376985909092365, array([ 6.18712766e-05,  9.38798109e-05, -1.92593606e-04, ...,\n",
      "       -6.47826038e-04,  8.57546470e-04,  9.30689893e-04])) \n",
      "(this value should be 0.383770)\n"
     ]
    }
   ],
   "source": [
    "print('Checking cost function with regularization: ')\n",
    "\n",
    "#Regularization parameter (we set this to 1 here)\n",
    "lambda_ = 1\n",
    "\n",
    "J = nnCostFunction(nn_params, input_layer_size, hidden_layer_size, num_labels, X, y, lambda_)\n",
    "\n",
    "print('Cost at parameters loaded by ex4weights is:', J, '\\n(this value should be 0.383770)')"
   ]
  },
  {
   "cell_type": "markdown",
   "metadata": {},
   "source": [
    "## 2. Back propagation\n",
    "\n",
    "<p>In this part of the exercise, you will implement the backpropagation algorithm to compute the gradient for the neural network cost function. You will need to complete the nnCostFunction() so that it returns an appropriate value for grad. Once you have computed the gradient, you will be able to train the neural network by minimizing the cost function $J(\\theta)$ using an advanced optimizer such as fmin_cg.</p>\n",
    "\n",
    "<p>You will ﬁrst implement the backpropagation algorithm to compute the gradients for the parameters for the (unregularized) neural network. After you have veriﬁed that your gradient computation for the unregularized case is correct, you will implement the gradient for the regularized neural network.</p>"
   ]
  },
  {
   "cell_type": "markdown",
   "metadata": {},
   "source": [
    "### 2.1 Sigmoid Gradient\n",
    "\n",
    "<p>To help you get started with this part of the exercise, you will ﬁrst implement the sigmoid gradient function. The gradient for the sigmoid function can be computed as </p>\n",
    "\n",
    "$$g'(z) = \\frac{d}{dz} g(z) = g(z)(1-g(z))$$\n",
    "\n",
    "<p>where</p>\n",
    "\n",
    "$$sigmoid(z) = g(z) = \\frac{1}{1+e^{-z}}$$\n",
    "\n",
    "<p>When you are done, try testing a few values by calling sigmoidGradient(z). For large values (both positive and negative) of z, the gradient should be close to 0. When z = 0, the gradient should be exactly 0.25. Your code should also work with vectors and matrices. For a matrix, your function should perform the sigmoid gradient function on every element.</p>"
   ]
  },
  {
   "cell_type": "code",
   "execution_count": 16,
   "metadata": {},
   "outputs": [
    {
     "name": "stdout",
     "output_type": "stream",
     "text": [
      "Evaluating sigmoid gradient..\n",
      "Sigmoid gradient evaluated at [-1, -0.5, 0, 0.5, 1]:\n",
      " [0.19661193 0.23500371 0.25       0.23500371 0.19661193]\n"
     ]
    }
   ],
   "source": [
    "print('Evaluating sigmoid gradient..')\n",
    "\n",
    "g = sigmoidGradient([-1, -0.5, 0, 0.5, 1])\n",
    "print('Sigmoid gradient evaluated at [-1, -0.5, 0, 0.5, 1]:\\n', g)"
   ]
  },
  {
   "cell_type": "markdown",
   "metadata": {},
   "source": [
    "### 2.2 Random Initialization\n",
    "\n",
    "<p>When training neural networks, it is important to randomly initialize the parameters for symmetry breaking. One eﬀective strategy for random initialization is to randomly select values for $\\theta^{(l)}$ uniformly in the range $[−\\epsilon_{init}, \\epsilon_{init}]$. You should use $\\epsilon_{init}$ = 0.12. This range of values ensures that the parameters are kept small and makes the learning more eﬃcient.</p>"
   ]
  },
  {
   "cell_type": "code",
   "execution_count": 17,
   "metadata": {},
   "outputs": [
    {
     "name": "stdout",
     "output_type": "stream",
     "text": [
      "Initializing NN parameters: \n"
     ]
    }
   ],
   "source": [
    "print('Initializing NN parameters: ')\n",
    "\n",
    "initial_Theta1 = randInitializeWeights(input_layer_size, hidden_layer_size)\n",
    "initial_Theta2 = randInitializeWeights(hidden_layer_size, num_labels)\n",
    "\n",
    "#Unroll parameters\n",
    "initial_nn_params = np.concatenate((initial_Theta1.reshape(initial_Theta1.size, order='F'), \n",
    "                                    initial_Theta2.reshape(initial_Theta2.size, order='F')))"
   ]
  },
  {
   "cell_type": "markdown",
   "metadata": {},
   "source": [
    "### 2.3 Backpropagation\n",
    "\n",
    "<img src = \"Figure 3.png\">\n",
    "\n",
    "<p>Now, you will implement the backpropagation algorithm. Recall that the intuition behind the backpropagation algorithm is as follows. Given a training example $(x^{(t)},y^{(t)})$, we will ﬁrst run a “forward pass” to compute all the activations throughout the network, including the output value of the hypothesis $h_\\theta(x)$. Then, for each node j in layer l, we would like to compute an “error term” $\\delta^{(l)}_j$ that measures how much that node was “responsible” for any errors in our output.</p>\n",
    "\n",
    "<p>For an output node, we can directly measure the diﬀerence between the network’s activation and the true target value, and use that to deﬁne $\\delta^{(3)}_j$ (since layer 3 is the output layer). For the hidden units, you will compute $\\delta^{(l)}_j$ based on a weighted average of the error terms of the nodes in layer (l + 1).</p>\n",
    "\n",
    "<p>In detail, here is the backpropagation algorithm (also depicted in Figure 3). You should implement steps 1 to 4 in a loop that processes one example at a time. Concretely, you should implement a for-loop for t = 1:m and place steps 1-4 below inside the for-loop, with the $t^{th}$ iteration performing the calculation on the $t^{th}$ training example $(x^{(t)},y^{(t)})$. Step 5 will divide the accumulated gradients by m to obtain the gradients for the neural network cost function.</p>\n",
    "\n",
    "<ol>\n",
    "    <li>Set the input layer’s values $(a^{(1)})$ to the t-th training example $x^{(t)}$. Perform a feedforward pass (Figure 2), computing the activations $(z^{(2)},a^{(2)},z^{(3)},a^{(3)})$ for layers 2 and 3. Note that you need to add a +1 term to ensure that the vectors of activations for layers $a^{(1)}$ and $a{(2)}$ also include the bias unit.</li>\n",
    "    <li> For each output unit k in layer 3 (the output layer), set\n",
    "        $$\\delta^{(3)}_k = (a^{(3)}_k - y_k)$$\n",
    "        where $y_k ∈ {0,1}$ indicates whether the current training example belongs to class k $(y_k = 1)$, or if it belongs to a diﬀerent class $(y_k = 0)$. You may ﬁnd logical arrays helpful for this task (explained in the previous programming exercise).</li>\n",
    "    <li> For the hidden layer l = 2, set \n",
    "        $$\\delta^{(2)} = (\\theta^{(2)})^T \\delta^{(3)} .* g'(z^{(2)}$$ </li>\n",
    "    <li> Accumulate the gradient from this example using the following formula. Note that you should skip or remove $\\delta^{(2)}_0$.\n",
    "        $$\\Delta^{(l)} = \\Delta^{(l)} + \\delta^{(l+1)}(a^{(l)})^T$$ </li>\n",
    "    <li>Obtain the (unregularized) gradient for the neural network cost function by dividing the accumulated gradients by $\\frac{1}{m}$:\n",
    "        $$\\frac{\\partial}{\\partial\\theta^{(l)}_{ij}} J(\\theta) = D^{(l)}_{ij} = \\frac{1}{m} \\Delta^{(l)}_{ij}$$ </li>\n",
    "</ol>\n",
    "\n",
    "<p>After you have implemented the backpropagation algorithm, the script ex4.m will proceed to run gradient checking on your implementation. The gradient check will allow you to increase your conﬁdence that your code is computing the gradients correctly.</p>"
   ]
  },
  {
   "cell_type": "markdown",
   "metadata": {},
   "source": [
    "### 2.4 Gradient checking\n",
    "\n",
    "<p>In your neural network, you are minimizing the cost function $J(\\theta)$. To perform gradient checking on your parameters, you can imagine “unrolling” the parameters $\\theta^{(1)}, \\theta^{(2)}$ into a long vector $\\theta$. By doing so, you can think of the cost function being $J(\\theta)$ instead and use the following gradient checking procedure.</p>\n",
    "\n",
    "<p>Suppose you have a function $f_i(\\theta)$ that purportedly computes $\\frac{\\partial}{\\partial \\theta_i} J(\\theta)$; you’d like to check if $f_i$ is outputting correct derivative values.</p>\n",
    "\n",
    "<p> Let </p>\n",
    "$$\\theta^{(i+)} = \\theta + \\begin{bmatrix} 0 \\\\ 0 \\\\ ... \\\\ \\epsilon \\\\ ... \\\\ 0 \\end{bmatrix} , \\theta^{(i-)} = \\theta - \\begin{bmatrix} 0 \\\\ 0 \\\\ ... \\\\ \\epsilon \\\\ 0 \\end{bmatrix}$$\n",
    "\n",
    "<p>So, $\\theta^{(i+)}$ is the same as $\\theta$, except its i-th element has been incremented by $\\epsilon$. Similarly, $\\theta^{(i-)}$ is the corresponding vector with the i-th element decreased by $\\epsilon$. You can now numerically verify $f_i(\\theta)$'s correctness by checking, for each i, that:</p>\n",
    "$$f_i(\\theta) \\approx \\frac{J(\\theta^{(i+)}) - J(\\theta^{(i-)})}{2\\epsilon}$$\n",
    "\n",
    "<p>The degree to which these two values should approximate each other will depend on the details of J. But assuming $\\epsilon = 10^{-4}$, you’ll usually ﬁnd that the left- and right-hand sides of the above will agree to at least 4 signiﬁcant digits (and often many more).</p>\n",
    "\n",
    "<p>We have implemented the function to compute the numerical gradient for you in computeNumericalGradient(). While you are not required to modify the ﬁle, we highly encourage you to take a look at the code to understand how it works.</p>\n",
    "\n",
    "<p>In the next step, it will run the provided function checkNNGradients() which will create a small neural network and dataset that will be used for checking your gradients. If your backpropagation implementation is correct, you should see a relative diﬀerence that is less than 1e-9.</p>"
   ]
  },
  {
   "cell_type": "code",
   "execution_count": 18,
   "metadata": {
    "scrolled": false
   },
   "outputs": [
    {
     "name": "stdout",
     "output_type": "stream",
     "text": [
      "Checking Backpropagation...\n",
      "Numerical Gradient       Analytical Gradient\n",
      "0.0377805465623382       0.03778054659834626\n",
      "0.0668531912406678       0.06685319129658132\n",
      "0.03454038772332524      0.03454038776263527\n",
      "-0.029647301609259102    -0.029647301630587385\n",
      "-0.06645480413958182     -0.06645480419400639\n",
      "0.0004766875250084013    0.00047668753345895865\n",
      "0.0009134180034564565    0.0009134180078127476\n",
      "0.0005100516409228817    0.0005100516434187682\n",
      "-0.00036263437142025623  -0.0003626343726487506\n",
      "-0.0008998974498908296   -0.0008998974493869074\n",
      "0.0007755676412202206    0.000775567636929346\n",
      "0.0012982864339150524    0.001298286432799179\n",
      "0.0006265634855395774    0.0006265634895424362\n",
      "-0.0006214453929231922   -0.0006214453964076522\n",
      "-0.0012954651662511196   -0.0012954651703755387\n",
      "0.00036139442993743387   0.0003613944317203012\n",
      "0.0004895163030482763    0.0004895162988246889\n",
      "0.00016701575678013114   0.00016701575292636452\n",
      "-0.0003089023925539891   -0.00030890238865163887\n",
      "-0.0004999881841882825   -0.0004999881880646251\n",
      "0.5093477222439802       0.5093477222461644\n",
      "0.3081330025755946       0.30813300258498666\n",
      "0.3062703721923299       0.30627037219952835\n",
      "0.30390808186009366      0.3039080818677894\n",
      "0.30123429754613795      0.3012342975517591\n",
      "0.29846211987649696      0.29846211987809484\n",
      "0.4958125349485698       0.4958125349464974\n",
      "0.49349670469212015      0.4934967046861787\n",
      "0.4916990795766907       0.49169907956887704\n",
      "0.49056272392711264      0.4905627239205649\n",
      "0.2654841776639216       0.26548417765788745\n",
      "0.1602535854416942       0.1602535854452673\n",
      "0.15998080810764037      0.1599808081100046\n",
      "0.15823184276175795      0.1582318427560851\n",
      "0.1571650177289996       0.15716501773113783\n",
      "0.15559059137526532      0.15559059138459488\n",
      "0.2584292576823799       0.2584292576882942\n",
      "0.2572221828733845       0.25722218287184623\n",
      "0.2562852112797387       0.25628521128093795\n",
      "0.25569291196791966      0.25569291197090005\n",
      "0.2426817340062115       0.24268173400225979\n",
      "0.14664350753257338      0.14664350753556205\n",
      "0.14635306035959417      0.1463530603591317\n",
      "0.14444471419849947      0.14444471420486482\n",
      "0.14412350989534417      0.14412350989944261\n",
      "0.14169887234238843      0.14169887233938355\n",
      "0.2362326916349744       0.23623269162672478\n",
      "0.2351292861968446       0.2351292861862809\n",
      "0.23427278827092834      0.23427278826804976\n",
      "0.23373136241122694      0.23373136241339432\n",
      "0.25954515318282745      0.2595451531817898\n",
      "0.1575870844439109       0.15758708444977074\n",
      "0.15515698512658105      0.1551569851223705\n",
      "0.15549683501259182      0.1554968350166454\n",
      "0.15255924457502346      0.1525592445770231\n",
      "0.15272195614812745      0.15272195614349135\n",
      "0.25264832985705254      0.25264832985524394\n",
      "0.25146829438771334      0.2514682943868216\n",
      "0.2505523077811489       0.25055230778279236\n",
      "0.2499732690219858       0.24997326901112857\n",
      "0.26030466129700613      0.26030466128933316\n",
      "0.15689162272902735      0.1568916227309015\n",
      "0.15727760247497002      0.15727760247202624\n",
      "0.15483667843874116      0.15483667843875284\n",
      "0.15457480381897426      0.15457480381156213\n",
      "0.15220450447106515      0.15220450447268016\n",
      "0.25338727484669477      0.2533872748449268\n",
      "0.25220373653489503      0.2522037365391205\n",
      "0.25128503658322643      0.2512850365882805\n",
      "0.2507042898969303       0.2507042898932531\n",
      "0.2424486037178042       0.24244860372497148\n",
      "0.14685665441049878      0.14685665441727536\n",
      "0.1457024990259015       0.14570249902844268\n",
      "0.1446470962918056       0.14464709629570405\n",
      "0.14350522989037273      0.14350522989057993\n",
      "0.1418575262190913       0.14185752622131692\n",
      "0.23600587308880705      0.23600587308998508\n",
      "0.2349035428350632       0.2349035428303014\n",
      "0.2340478777673738       0.23404787776333785\n",
      "0.23350697615054372      0.2335069761506981\n",
      "The above two columns you get should be very similar...\n",
      "Left-Your numerical gradient, Right- Analytical gradient\n",
      "If you backpropagation implementation is correct, then the relative difference will be small (less than 1e-9).\n",
      "Relative difference: 2.695103082526873060307150898E-11\n"
     ]
    }
   ],
   "source": [
    "print('Checking Backpropagation...')\n",
    "\n",
    "#Check gradients by running checkNNGradients\n",
    "checkNNGradients()"
   ]
  },
  {
   "cell_type": "markdown",
   "metadata": {},
   "source": [
    "### 2.5 Regularized Neural Networks\n",
    "\n",
    "<p>After you have successfully implemeted the backpropagation algorithm, you will add regularization to the gradient. To account for regularization, it turns out that you can add this as an additional term <i>after</i> computing the gradients using backpropagation.</p>\n",
    "\n",
    "<p>Speciﬁcally, after you have computed $\\Delta^{(l)}_{ij}$ using backpropagation, you should add regularization using</p>\n",
    "\n",
    "<ul>\n",
    "<li>$\\frac{\\partial}{\\partial\\theta^{(l)}_{ij}} J(\\theta) = D^{(l)}_{ij} = \\frac{1}{m} \\Delta^{(l)}_{ij}$, for j = 0</li>\n",
    "<li>$\\frac{\\partial}{\\partial\\theta^{(l)}_{ij}} J(\\theta) = D^{(l)}_{ij} = \\frac{1}{m} \\Delta^{(l)}_{ij} + \\frac{\\lambda}{m}\\theta^{(l)}_{ij}$, for j >= 1</li>\n",
    "</ul>\n",
    "\n",
    "<p>Note that you should not be regularizing the ﬁrst column of $\\theta^{(l)}$ which is used for the bias term. Furthermore, in the parameters $\\theta^{(l)}_{ij}$, i is indexed starting from 1, and j is indexed starting from $\\theta$.</p>\n",
    "\n",
    "<p>Now modify your code that computes <b>grad</b> in nnCostFunction() to account for regularization. After you are done, the script will proceed to run gradient checking on your implementation. If your code is correct, you should expect to see a relative diﬀerence that is less than 1e-9. </p>"
   ]
  },
  {
   "cell_type": "code",
   "execution_count": 19,
   "metadata": {},
   "outputs": [
    {
     "name": "stdout",
     "output_type": "stream",
     "text": [
      "Checking Backpropagation with Regularization...\n",
      "Numerical Gradient       Analytical Gradient\n",
      "0.0377805465623382       0.03778054659834626\n",
      "0.0668531912406678       0.06685319129658132\n",
      "0.03454038772332524      0.03454038776263527\n",
      "-0.029647301609259102    -0.029647301630587385\n",
      "-0.06645480413958182     -0.06645480419400639\n",
      "0.055034533135156494     0.055034533142999865\n",
      "-0.01585151188976397     -0.015851511884122805\n",
      "-0.03213121501310923     -0.03213121500994342\n",
      "0.05907380697056652      0.05907380696904347\n",
      "-0.04595913225546866     -0.04595913225568748\n",
      "0.009242768124195777     0.009242768120521378\n",
      "0.04071748235912054      0.040717482355926524\n",
      "-0.05937284890844552     -0.059372848903499774\n",
      "0.03839582501719008      0.03839582501301936\n",
      "0.007697167414555395     0.007697167409401601\n",
      "-0.045046755290378826    -0.04504675528675539\n",
      "0.05985101109828861      0.05985101109622759\n",
      "-0.032027359324615645    -0.03202735932709973\n",
      "-0.017583101392659728    -0.017583101388555556\n",
      "0.054276726859647795     0.05427672685559303\n",
      "0.5093477222439802       0.5093477222461644\n",
      "0.3081330025755946       0.30813300258498666\n",
      "0.3062703721923299       0.30627037219952835\n",
      "0.30390808186009366      0.3039080818677894\n",
      "0.30123429754613795      0.3012342975517591\n",
      "0.29846211987649696      0.29846211987809484\n",
      "0.4958125349485698       0.4958125349464974\n",
      "0.49349670469212015      0.4934967046861787\n",
      "0.4916990795766907       0.49169907956887704\n",
      "0.49056272392711264      0.4905627239205649\n",
      "0.3200420232740697       0.32004202326742837\n",
      "0.21961508023693455      0.2196150802426702\n",
      "0.21941724944962715      0.21941724945169683\n",
      "0.21300855780559402      0.21300855779974276\n",
      "0.2029185247565124       0.20291852475991398\n",
      "0.18867619224760546      0.18867619225909632\n",
      "0.27621137240529947      0.27621137241085736\n",
      "0.2582842983800404       0.258284298378171\n",
      "0.24054272005802346      0.24054272005870223\n",
      "0.2243998518425272       0.22439985184568534\n",
      "0.25114893448918707      0.2511489344858518\n",
      "0.17137061664840303      0.17137061665006745\n",
      "0.18537033076970744      0.18537033076855872\n",
      "0.1946440525113502       0.19464405251702818\n",
      "0.20150606559798945      0.2015060656037128\n",
      "0.20169358394994674      0.2016935839458196\n",
      "0.2940604148138348       0.29406041480377004\n",
      "0.28618349766862394      0.286183497658328\n",
      "0.2744865388226714       0.27448653881865226\n",
      "0.25990124772778955      0.25990124772826384\n",
      "0.2141370034625112       0.2141370034633141\n",
      "0.12494581778987879      0.12494581779640855\n",
      "0.1378827861264753       0.13788278612246657\n",
      "0.15496575645368438      0.15496575645922117\n",
      "0.1688135918742617       0.16881359187549524\n",
      "0.1844669173145519       0.18446691731069279\n",
      "0.2973551194873636       0.29735511948400484\n",
      "0.30557559524524436      0.3055755952457502\n",
      "0.3097499633053502       0.3097499633052215\n",
      "0.309545627907859        0.30954562789620077\n",
      "0.20276920481787641      0.20276920480954486\n",
      "0.09689221033504225      0.09689221033785927\n",
      "0.09959375296464401      0.09959375295925284\n",
      "0.10406345418711993      0.10406345418824262\n",
      "0.11475677076600022      0.11475677075878407\n",
      "0.12651354430293082      0.1265135443029111\n",
      "0.2438699147200296       0.24386991471664426\n",
      "0.2596181239011841       0.25961812390383393\n",
      "0.2750405455920202       0.27504054559919056\n",
      "0.2889085703250416       0.2889085703216014\n",
      "0.22568367382458376      0.22568367383303595\n",
      "0.114662279329103        0.11466227933724926\n",
      "0.10064326422032366      0.1006432642221421\n",
      "0.09031239457168994      0.09031239457530663\n",
      "0.08422333244606506      0.08422333244500821\n",
      "0.08235079501428544      0.08235079501472997\n",
      "0.1810145802139118       0.18101458021504704\n",
      "0.18880826315736954      0.1888082631508814\n",
      "0.2005205348343253       0.20052053483224086\n",
      "0.2152183388837159       0.2152183388845651\n",
      "The above two columns you get should be very similar...\n",
      "Left-Your numerical gradient, Right- Analytical gradient\n",
      "If you backpropagation implementation is correct, then the relative difference will be small (less than 1e-9).\n",
      "Relative difference: 2.650104456537896395980389386E-11\n"
     ]
    }
   ],
   "source": [
    "print('Checking Backpropagation with Regularization...')\n",
    "\n",
    "#Check gradients by running checkNNGradients\n",
    "lambda_ = 3\n",
    "checkNNGradients(lambda_)"
   ]
  },
  {
   "cell_type": "code",
   "execution_count": 21,
   "metadata": {},
   "outputs": [
    {
     "name": "stdout",
     "output_type": "stream",
     "text": [
      "Cost at (fixed) debugging parameters, with lambda = 3, is 0.5760512469501332\n",
      "For lambda = 3, the value should be about 0.576051\n"
     ]
    }
   ],
   "source": [
    "debug_J, grad = nnCostFunction(nn_params, input_layer_size, hidden_layer_size, num_labels, X, y, lambda_)\n",
    "print('Cost at (fixed) debugging parameters, with lambda = {}, is {}'.format(lambda_, debug_J))\n",
    "print('For lambda = 3, the value should be about 0.576051')"
   ]
  },
  {
   "cell_type": "markdown",
   "metadata": {},
   "source": [
    "### 2.6 Learning Parameters\n",
    "\n",
    "<p>After you have successfully implemented the neural network cost function and gradient computation, the next step of the script will use <b>optimizer</b> to learn a good set parameters.</p>\n",
    "\n",
    "<p>After the training completes, the script will proceed to report the training accuracy of your classiﬁer by computing the percentage of examples it got correct. If your implementation is correct, you should see a reported training accuracy of about 95.3% (this may vary by about 1% due to the random initialization). It is possible to get higher training accuracies by training the neural network for more iterations. We encourage you to try training the neural network for more iterations (e.g., set MaxIter to 400) and also vary the regularization parameter λ. With the right learning settings, it is possible to get the neural network to perfectly ﬁt the training set.</p>"
   ]
  },
  {
   "cell_type": "code",
   "execution_count": 30,
   "metadata": {},
   "outputs": [
    {
     "name": "stdout",
     "output_type": "stream",
     "text": [
      "Training Neural Network...\n"
     ]
    }
   ],
   "source": [
    "import scipy.optimize as opt\n",
    "\n",
    "print('Training Neural Network...')\n",
    "\n",
    "#After you have completed the assignment, change the MaxIter to a larger value to see how more training helps\n",
    "options = {'maxiter':50}\n",
    "\n",
    "#You should also try different values of lambda\n",
    "lambda_ = 1\n",
    "\n",
    "#Create \"short hand\" for the cost function to be minimized\n",
    "def costFunc(p):\n",
    "    return nnCostFunction(p, input_layer_size, hidden_layer_size, num_labels, X, y, lambda_)\n",
    "\n",
    "#Now, costFunction is a function that takes in only one argument (the neural network parameters)\n",
    "res = opt.minimize(costFunc,\n",
    "                  initial_nn_params,\n",
    "                  jac=True,\n",
    "                  method='CG',\n",
    "                  options=options)\n",
    "\n",
    "#cost = res.fun\n",
    "nn_params = res.x\n",
    "\n",
    "Theta1 = np.reshape(nn_params[:hidden_layer_size * (input_layer_size + 1)], \n",
    "                    (hidden_layer_size, input_layer_size + 1), order='F')\n",
    "\n",
    "Theta2 = np.reshape(nn_params[hidden_layer_size * (input_layer_size + 1):], \n",
    "                    (num_labels, hidden_layer_size + 1), order='F')"
   ]
  },
  {
   "cell_type": "markdown",
   "metadata": {},
   "source": [
    "## 3. Visualizing the hidden layer\n",
    "\n",
    "<p>One way to understand what your neural network is learning is to visualize what the representations captured by the hidden units. Informally, given a particular hidden unit, one way to visualize what it computes is to ﬁnd an input x that will cause it to activate (that is, to have an activation value ($a^{(l)}_i$) close to 1). For the neural network you trained, notice that the $i^{th}$ row of $\\theta^{(1)}$ is a 401-dimensional vector that represents the parameter for the $i^{th}$ hidden unit. If we discard the bias term, we get a 400 dimensional vector that represents the weights from each input pixel to the hidden unit.</p>\n",
    "\n",
    "<p>Thus, one way to visualize the “representation” captured by the hidden unit is to reshape this 400 dimensional vector into a 20 × 20 image and display it. The next step does this by using the displayData() function and it will show you an image (similar to Figure 4) with 25 units, each corresponding to one hidden unit in the network. In your trained network, you should ﬁnd that the hidden units corresponds roughly to detectors that look for strokes and other patterns in the input.</p>\n",
    "\n",
    "<img src='Figure 4.png'>"
   ]
  },
  {
   "cell_type": "code",
   "execution_count": 31,
   "metadata": {},
   "outputs": [
    {
     "name": "stdout",
     "output_type": "stream",
     "text": [
      "Visualizing Neural Network...\n"
     ]
    },
    {
     "data": {
      "image/png": "[encoded data removed]",
      "text/plain": [
       "<Figure size 432x288 with 1 Axes>"
      ]
     },
     "metadata": {
      "needs_background": "light"
     },
     "output_type": "display_data"
    },
    {
     "data": {
      "text/plain": [
       "(<matplotlib.image.AxesImage at 0x1fc96bf9ac8>,\n",
       " array([[-1.        , -1.        , -1.        , ..., -1.        ,\n",
       "         -1.        , -1.        ],\n",
       "        [-1.        , -0.03728914,  0.01233713, ..., -0.042591  ,\n",
       "         -0.06668102, -1.        ],\n",
       "        [-1.        , -0.05601054,  0.04183544, ...,  0.09997568,\n",
       "          0.06184679, -1.        ],\n",
       "        ...,\n",
       "        [-1.        , -0.05302179,  0.05174791, ..., -0.01407212,\n",
       "          0.04835385, -1.        ],\n",
       "        [-1.        ,  0.04397782,  0.04726203, ..., -0.0781883 ,\n",
       "         -0.03268558, -1.        ],\n",
       "        [-1.        , -1.        , -1.        , ..., -1.        ,\n",
       "         -1.        , -1.        ]]))"
      ]
     },
     "execution_count": 31,
     "metadata": {},
     "output_type": "execute_result"
    }
   ],
   "source": [
    "print('Visualizing Neural Network...')\n",
    "\n",
    "displayData(Theta1[:,1:])"
   ]
  },
  {
   "cell_type": "code",
   "execution_count": 33,
   "metadata": {},
   "outputs": [
    {
     "name": "stdout",
     "output_type": "stream",
     "text": [
      "Training set accuracy: 96.50%\n"
     ]
    }
   ],
   "source": [
    "pred = predict(Theta1, Theta2, X)\n",
    "print('Training set accuracy: {:.2f}%'.format(np.mean(pred == y) * 100))"
   ]
  }
 ],
 "metadata": {
  "kernelspec": {
   "display_name": "Python 3",
   "language": "python",
   "name": "python3"
  },
  "language_info": {
   "codemirror_mode": {
    "name": "ipython",
    "version": 3
   },
   "file_extension": ".py",
   "mimetype": "text/x-python",
   "name": "python",
   "nbconvert_exporter": "python",
   "pygments_lexer": "ipython3",
   "version": "3.7.6"
  }
 },
 "nbformat": 4,
 "nbformat_minor": 4
}
