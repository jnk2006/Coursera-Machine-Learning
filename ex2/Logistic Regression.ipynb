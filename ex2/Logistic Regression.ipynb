{
 "cells": [
  {
   "cell_type": "markdown",
   "metadata": {},
   "source": [
    "# Programming Exercise 2: Logistic Regression"
   ]
  },
  {
   "cell_type": "code",
   "execution_count": 1,
   "metadata": {},
   "outputs": [],
   "source": [
    "import numpy as np\n",
    "import pandas as pd\n",
    "\n",
    "import seaborn as sns\n",
    "import matplotlib.pyplot as plt\n",
    "%matplotlib inline"
   ]
  },
  {
   "cell_type": "markdown",
   "metadata": {},
   "source": [
    "### Defining necessary functions:"
   ]
  },
  {
   "cell_type": "code",
   "execution_count": 2,
   "metadata": {},
   "outputs": [],
   "source": [
    "def plotData(X, y):\n",
    "    print('Plotting data with x indicating (y = 1) examples and o indicating (y = 0) examples.\\n')\n",
    "    \n",
    "    fig = plt.figure()\n",
    "    \n",
    "    pos = np.where(y == 1)\n",
    "    neg = np.where(y == 0)\n",
    "\n",
    "    plt.scatter(X[pos, 0], X[pos, 1], c=\"r\",marker=\"+\")\n",
    "    plt.scatter(X[neg, 0], X[neg, 1], marker=\"o\",s=10)"
   ]
  },
  {
   "cell_type": "code",
   "execution_count": 3,
   "metadata": {},
   "outputs": [],
   "source": [
    "def sigmoid(z):\n",
    "    #g = SIGMOID(z) computes the sigmoid of z.\n",
    "    \n",
    "    #Computation\n",
    "    g = np.zeros(np.shape(z))\n",
    "    g = 1/(1+np.exp(-z))\n",
    "    \n",
    "    return g"
   ]
  },
  {
   "cell_type": "code",
   "execution_count": 4,
   "metadata": {},
   "outputs": [],
   "source": [
    "def costFunction(theta, X, y):\n",
    "    #J = COSTFUNCTION(theta, X, y) computes the cost of using theta as the parameter for logistic regression and the gradient of the cost w.r.t. to the parameters.\n",
    "    \n",
    "    #Initialize some useful values\n",
    "    m = len(y)\n",
    "    J = 0\n",
    "    \n",
    "    #Calculate hypothesis h\n",
    "    h = sigmoid(np.dot(X,theta))\n",
    "    \n",
    "    #Calculate cost function J\n",
    "    #J = (1/m) * (-y.T.dot(np.log(h)) - (1-y).T.dot(np.log(1-h)))\n",
    "    J = np.sum(np.dot((-y.T),np.log(h))-np.dot((1-y).T,np.log(1-h)))/m\n",
    "    \n",
    "    #Calculate gradient\n",
    "    error = h-y\n",
    "    grad = np.dot(error, X) / y.size\n",
    "    #grad = np.dot((h-y).T, X).T/m\n",
    "    \n",
    "    return J, grad.ravel()"
   ]
  },
  {
   "cell_type": "code",
   "execution_count": 5,
   "metadata": {},
   "outputs": [],
   "source": [
    "def costFunctionReg(theta, X, y, lambda_):\n",
    "    #COSTFUNCTIONREG Compute cost and gradient for logistic regression with regularization\n",
    "    \n",
    "    #Initialze some useful values\n",
    "    m = len(y) #Number of training examples\n",
    "    J = 0\n",
    "    \n",
    "    #theta = theta[:,np.newaxis] \n",
    "    grad = np.zeros(theta.shape)\n",
    "    \n",
    "    #Calculate hypothesis h\n",
    "    h = sigmoid(np.dot(X,theta))\n",
    "    \n",
    "    #Rearrange theta\n",
    "    temp = theta\n",
    "    temp[0] = 0\n",
    "    \n",
    "    #Calculate cost J with regularizer lambda\n",
    "    J = np.sum(np.dot((-y.T),np.log(h))-np.dot((1-y).T,np.log(1-h)))/m + (lambda_ / (2 * m)) * np.sum(np.square(temp))\n",
    "\n",
    "    #Calculate gradient\n",
    "    #grad = 1/m * np.dot(X.transpose(),(h - y))\n",
    "    #grad = grad + (lambda_ / m) * temp\n",
    "    #grad = np.sum(np.dot((h-y).T, X))/m + (lambda_/m)*temp\n",
    "    error = h - y\n",
    "    grad = (np.dot(X.T, error) + lambda_*temp)/m \n",
    "    \n",
    "    return J, grad.ravel()"
   ]
  },
  {
   "cell_type": "code",
   "execution_count": 6,
   "metadata": {},
   "outputs": [],
   "source": [
    "def plotDecisionBoundary(theta, X, y):\n",
    "    #PLOTDECISIONBOUNDARY(theta, X,y) plots the data points with + for the positive examples and o for the negative examples.\n",
    "    \n",
    "    #Plot data\n",
    "    plotData(X[:,1:], y)\n",
    "    \n",
    "    if(X[:,1:].size/len(y) <= 3):\n",
    "        #Only need 2 points to define a line, so choose two endpoints\n",
    "        plot_x = [min(X[:,1])-2,  max(X[:,1])+2]\n",
    "        \n",
    "        #Calcuate the decision boundary line\n",
    "        plot_y = np.multiply(-1/theta[2], np.multiply(theta[1], plot_x) + theta[0])\n",
    "        \n",
    "        #Plot, and adjust axes for better viewing\n",
    "        plt.plot(plot_x, plot_y, linewidth = 0.45, label = 'Decision Boundary')\n",
    "        \n",
    "    else:\n",
    "        #Here is the grid range\n",
    "        u = np.linspace(-1, 1.5, 50)\n",
    "        v = np.linspace(-1, 1.5, 50)\n",
    "        \n",
    "        z = np.zeros((len(u), len(v)))\n",
    "        #Evaluate z = X*theta over the grid\n",
    "        for i in range(len(u)):\n",
    "            for j in range(len(v)):\n",
    "                z[i, j] = mapFeature(u[i], v[j])@theta;\n",
    "                #np.dot(mapFeature(u[i],v[j]), theta) \n",
    "        \n",
    "        z = z.T #important to transpose z before calling contour\n",
    "        \n",
    "        #Plot z = 0\n",
    "        #Notice you need to specify the range [0, 0]\n",
    "        #Contour Plot\n",
    "        plt.contour(u,v,z,0)"
   ]
  },
  {
   "cell_type": "code",
   "execution_count": 7,
   "metadata": {},
   "outputs": [],
   "source": [
    "def mapFeature(X1, X2):\n",
    "    #MAPFEATURE Feature mapping function to polynomial features\n",
    "    \n",
    "    #MAPFEATURE(X1, X2) maps the two input features to quadratic features used in the regularization exercise.\n",
    "    \n",
    "    #Returns a new feature array with more features, comprising of X1, X2, X1.^2, X2.^2, X1*X2, X1*X2.^2, etc..\n",
    "    \n",
    "    #Inputs X1, X2 must be the same size\n",
    "    #X1.shape = (X1.size, 1)\n",
    "    #X2.shape = (X2.size, 1)\n",
    "    degree = 6\n",
    "    out = np.ones(np.size(X1)).reshape(np.size(X1),1)\n",
    "    \n",
    "    for i in range(1,degree+1):\n",
    "        for j in range(i+1):\n",
    "            terms= (X1**(i-j) * X2**j).reshape(np.size(X1),1)\n",
    "            out= np.hstack((out,terms))\n",
    "    return out   "
   ]
  },
  {
   "cell_type": "code",
   "execution_count": 8,
   "metadata": {},
   "outputs": [],
   "source": [
    "def predict(theta, X):\n",
    "    #PREDICT Predict whether the label is 0 or 1 using learned logistic regression parameters theta\n",
    "    \n",
    "    #p = PREDICT(theta, X) computes the predictions for X using a threshold at 0.5 (i.e., if sigmoid(theta'*x) >= 0.5, predict 1)\n",
    "    m = len(X) #number of training examples\n",
    "    \n",
    "    p = np.zeros((m, 1))\n",
    "    \n",
    "    h=sigmoid(np.dot(X,theta))\n",
    "    \n",
    "    p = h>=0.5\n",
    "    \n",
    "    return p"
   ]
  },
  {
   "cell_type": "markdown",
   "metadata": {},
   "source": [
    "### 1. Logistic Regression\n",
    "\n",
    "<p>In this part of the exercise, you will build a logistic regression model to predict whether a student gets admitted into a university.</p>\n",
    "\n",
    "<p>Suppose that you are the administrator of a university department and you want to determine each applicant’s chance of admission based on their results on two exams. You have historical data from previous applicants that you can use as a training set for logistic regression. For each training example, you have the applicant’s scores on two exams and the admissions decision.</p>\n",
    "\n",
    "<p>Your task is to build a classiﬁcation model that estimates an applicant’s probability of admission based the scores from those two exams.</p>"
   ]
  },
  {
   "cell_type": "code",
   "execution_count": 9,
   "metadata": {},
   "outputs": [
    {
     "data": {
      "text/html": [
       "<div>\n",
       "<style scoped>\n",
       "    .dataframe tbody tr th:only-of-type {\n",
       "        vertical-align: middle;\n",
       "    }\n",
       "\n",
       "    .dataframe tbody tr th {\n",
       "        vertical-align: top;\n",
       "    }\n",
       "\n",
       "    .dataframe thead th {\n",
       "        text-align: right;\n",
       "    }\n",
       "</style>\n",
       "<table border=\"1\" class=\"dataframe\">\n",
       "  <thead>\n",
       "    <tr style=\"text-align: right;\">\n",
       "      <th></th>\n",
       "      <th>Exam1</th>\n",
       "      <th>Exam2</th>\n",
       "      <th>AdmitorNot</th>\n",
       "    </tr>\n",
       "  </thead>\n",
       "  <tbody>\n",
       "    <tr>\n",
       "      <th>0</th>\n",
       "      <td>34.623660</td>\n",
       "      <td>78.024693</td>\n",
       "      <td>0</td>\n",
       "    </tr>\n",
       "    <tr>\n",
       "      <th>1</th>\n",
       "      <td>30.286711</td>\n",
       "      <td>43.894998</td>\n",
       "      <td>0</td>\n",
       "    </tr>\n",
       "    <tr>\n",
       "      <th>2</th>\n",
       "      <td>35.847409</td>\n",
       "      <td>72.902198</td>\n",
       "      <td>0</td>\n",
       "    </tr>\n",
       "    <tr>\n",
       "      <th>3</th>\n",
       "      <td>60.182599</td>\n",
       "      <td>86.308552</td>\n",
       "      <td>1</td>\n",
       "    </tr>\n",
       "    <tr>\n",
       "      <th>4</th>\n",
       "      <td>79.032736</td>\n",
       "      <td>75.344376</td>\n",
       "      <td>1</td>\n",
       "    </tr>\n",
       "  </tbody>\n",
       "</table>\n",
       "</div>"
      ],
      "text/plain": [
       "       Exam1      Exam2  AdmitorNot\n",
       "0  34.623660  78.024693           0\n",
       "1  30.286711  43.894998           0\n",
       "2  35.847409  72.902198           0\n",
       "3  60.182599  86.308552           1\n",
       "4  79.032736  75.344376           1"
      ]
     },
     "execution_count": 9,
     "metadata": {},
     "output_type": "execute_result"
    }
   ],
   "source": [
    "data = pd.read_csv('ex2data1.txt', sep=\",\", header=None)\n",
    "data.columns = ['Exam1', 'Exam2', 'AdmitorNot']\n",
    "data.head()"
   ]
  },
  {
   "cell_type": "code",
   "execution_count": 10,
   "metadata": {},
   "outputs": [],
   "source": [
    "X = data.values[:, 0:2] \n",
    "y = data.values[:, 2]"
   ]
  },
  {
   "cell_type": "markdown",
   "metadata": {},
   "source": [
    "### 1.1 Visualizing Data\n",
    "\n",
    "<p>Before starting to implement any learning algorithm, it is always good to visualize the data if possible. In the ﬁrst part of ex2.m, the code will load the data and display it on a 2-dimensional plot by calling the function plotData.</p>\n",
    "\n",
    "<p>You will now complete the code in plotData so that it displays a ﬁgure like Figure 1, where the axes are the two exam scores, and the positive and negative examples are shown with diﬀerent markers.</p>"
   ]
  },
  {
   "cell_type": "code",
   "execution_count": 11,
   "metadata": {},
   "outputs": [
    {
     "name": "stdout",
     "output_type": "stream",
     "text": [
      "Plotting data with x indicating (y = 1) examples and o indicating (y = 0) examples.\n",
      "\n"
     ]
    },
    {
     "data": {
      "image/png": "[encoded data removed]",
      "text/plain": [
       "<Figure size 432x288 with 1 Axes>"
      ]
     },
     "metadata": {
      "needs_background": "light"
     },
     "output_type": "display_data"
    },
    {
     "name": "stdout",
     "output_type": "stream",
     "text": [
      "Points with x represents Admitted and points with o represents Not Admitted\n"
     ]
    }
   ],
   "source": [
    "plotData(X, y)\n",
    "# add axes labels\n",
    "plt.xlabel('Exam 1 score')\n",
    "plt.ylabel('Exam 2 score')\n",
    "plt.legend([\"Accepted\",\"Rejected\"],loc=0)\n",
    "plt.show()\n",
    "print('Points with x represents Admitted and points with o represents Not Admitted')"
   ]
  },
  {
   "cell_type": "markdown",
   "metadata": {},
   "source": [
    "### 1.2 Implementation\n",
    "\n",
    "### 1.2.1 Sigmoid function\n",
    "\n",
    "<p>Before you start with the actual cost function, recall that the logistic regression hypothesis is deﬁned as:\n",
    "hθ(x) = g(θTx),\n",
    "where function g is the sigmoid function. The sigmoid function is deﬁned as:\n",
    "g(z) =\n",
    "1 / (1 + e^−z)\n",
    "</p>\n",
    "\n",
    "<p>Your ﬁrst step is to implement this function in sigmoid() so it can be called by the rest of your program. When you are ﬁnished, try testing a few values by calling sigmoid(x). For large positive values of x, the sigmoid should be close to 1, while for large negative values, the sigmoid should be close to 0. Evaluating sigmoid(0) should give you exactly 0.5. Your code should also work with vectors and matrices. For a matrix, your function should perform the sigmoid function on every element.</p>"
   ]
  },
  {
   "cell_type": "code",
   "execution_count": 12,
   "metadata": {},
   "outputs": [
    {
     "name": "stdout",
     "output_type": "stream",
     "text": [
      "Sigmoid(x) for large positive values (x=10): 0.9999546021312976\n",
      "\n",
      "Sigmoid(x) for large negative values (x=-10): 4.5397868702434395e-05\n",
      "\n",
      "Sigmoid(x) when x = 0: 0.5\n"
     ]
    }
   ],
   "source": [
    "print('Sigmoid(x) for large positive values (x=10):', sigmoid(10))\n",
    "print('\\nSigmoid(x) for large negative values (x=-10):', sigmoid(-10))\n",
    "print('\\nSigmoid(x) when x = 0:', sigmoid(0))"
   ]
  },
  {
   "cell_type": "markdown",
   "metadata": {},
   "source": [
    "### 1.2.2 Cost function and Gradient\n",
    "\n",
    "<p>Now you will implement the cost function and gradient for logistic regression. Complete the code in costFunction.m to return the cost and gradient.</p>\n",
    "<p>Recall that the cost function in logistic regression is\n",
    "$$J(θ) = \\frac{1}{m} \\sum_{i=1}^m [y^ilog(h_\\theta(x^i)) - (1-y^i)log(1-h_\\theta(x^i))]$$, \n",
    "<br>and the gradient of the cost is a vector of the same length as θ where the $j^{th}$ element (for j = 0,1,...,n) is deﬁned as follows:\n",
    "$$\\frac{\\partial J(θ)}{\\partial θ_j} = \\frac{1}{m} \\sum_{i=1}^m (h_\\theta(x^i))-y^i)x^i_j$$\n",
    "</p>\n",
    "\n",
    "<p>Note that while this gradient looks identical to the linear regression gradient, the formula is actually diﬀerent because linear and logistic regression have diﬀerent deﬁnitions of $h_θ(x)$.</p>\n",
    "\n",
    "<p>Call your costFunction using the initial parameters of θ. You should see that the cost is about 0.693.</p>"
   ]
  },
  {
   "cell_type": "code",
   "execution_count": 13,
   "metadata": {
    "scrolled": false
   },
   "outputs": [
    {
     "name": "stdout",
     "output_type": "stream",
     "text": [
      "Cost at initial theta (zeros): 0.6931471805599452\n",
      "Expected cost (approx): 0.693\n",
      "Gradient at initial theta (zeros): [ -0.1        -12.00921659 -11.26284221  -0.1        -12.00921659\n",
      " -11.26284221  -0.1        -12.00921659 -11.26284221  -0.1\n",
      " -12.00921659 -11.26284221  -0.1        -12.00921659 -11.26284221\n",
      "  -0.1        -12.00921659 -11.26284221  -0.1        -12.00921659\n",
      " -11.26284221  -0.1        -12.00921659 -11.26284221  -0.1\n",
      " -12.00921659 -11.26284221  -0.1        -12.00921659 -11.26284221\n",
      "  -0.1        -12.00921659 -11.26284221  -0.1        -12.00921659\n",
      " -11.26284221  -0.1        -12.00921659 -11.26284221  -0.1\n",
      " -12.00921659 -11.26284221  -0.1        -12.00921659 -11.26284221\n",
      "  -0.1        -12.00921659 -11.26284221  -0.1        -12.00921659\n",
      " -11.26284221  -0.1        -12.00921659 -11.26284221  -0.1\n",
      " -12.00921659 -11.26284221  -0.1        -12.00921659 -11.26284221\n",
      "  -0.1        -12.00921659 -11.26284221  -0.1        -12.00921659\n",
      " -11.26284221  -0.1        -12.00921659 -11.26284221  -0.1\n",
      " -12.00921659 -11.26284221  -0.1        -12.00921659 -11.26284221\n",
      "  -0.1        -12.00921659 -11.26284221  -0.1        -12.00921659\n",
      " -11.26284221  -0.1        -12.00921659 -11.26284221  -0.1\n",
      " -12.00921659 -11.26284221  -0.1        -12.00921659 -11.26284221\n",
      "  -0.1        -12.00921659 -11.26284221  -0.1        -12.00921659\n",
      " -11.26284221  -0.1        -12.00921659 -11.26284221  -0.1\n",
      " -12.00921659 -11.26284221  -0.1        -12.00921659 -11.26284221\n",
      "  -0.1        -12.00921659 -11.26284221  -0.1        -12.00921659\n",
      " -11.26284221  -0.1        -12.00921659 -11.26284221  -0.1\n",
      " -12.00921659 -11.26284221  -0.1        -12.00921659 -11.26284221\n",
      "  -0.1        -12.00921659 -11.26284221  -0.1        -12.00921659\n",
      " -11.26284221  -0.1        -12.00921659 -11.26284221  -0.1\n",
      " -12.00921659 -11.26284221  -0.1        -12.00921659 -11.26284221\n",
      "  -0.1        -12.00921659 -11.26284221  -0.1        -12.00921659\n",
      " -11.26284221  -0.1        -12.00921659 -11.26284221  -0.1\n",
      " -12.00921659 -11.26284221  -0.1        -12.00921659 -11.26284221\n",
      "  -0.1        -12.00921659 -11.26284221  -0.1        -12.00921659\n",
      " -11.26284221  -0.1        -12.00921659 -11.26284221  -0.1\n",
      " -12.00921659 -11.26284221  -0.1        -12.00921659 -11.26284221\n",
      "  -0.1        -12.00921659 -11.26284221  -0.1        -12.00921659\n",
      " -11.26284221  -0.1        -12.00921659 -11.26284221  -0.1\n",
      " -12.00921659 -11.26284221  -0.1        -12.00921659 -11.26284221\n",
      "  -0.1        -12.00921659 -11.26284221  -0.1        -12.00921659\n",
      " -11.26284221  -0.1        -12.00921659 -11.26284221  -0.1\n",
      " -12.00921659 -11.26284221  -0.1        -12.00921659 -11.26284221\n",
      "  -0.1        -12.00921659 -11.26284221  -0.1        -12.00921659\n",
      " -11.26284221  -0.1        -12.00921659 -11.26284221  -0.1\n",
      " -12.00921659 -11.26284221  -0.1        -12.00921659 -11.26284221\n",
      "  -0.1        -12.00921659 -11.26284221  -0.1        -12.00921659\n",
      " -11.26284221  -0.1        -12.00921659 -11.26284221  -0.1\n",
      " -12.00921659 -11.26284221  -0.1        -12.00921659 -11.26284221\n",
      "  -0.1        -12.00921659 -11.26284221  -0.1        -12.00921659\n",
      " -11.26284221  -0.1        -12.00921659 -11.26284221  -0.1\n",
      " -12.00921659 -11.26284221  -0.1        -12.00921659 -11.26284221\n",
      "  -0.1        -12.00921659 -11.26284221  -0.1        -12.00921659\n",
      " -11.26284221  -0.1        -12.00921659 -11.26284221  -0.1\n",
      " -12.00921659 -11.26284221  -0.1        -12.00921659 -11.26284221\n",
      "  -0.1        -12.00921659 -11.26284221  -0.1        -12.00921659\n",
      " -11.26284221  -0.1        -12.00921659 -11.26284221  -0.1\n",
      " -12.00921659 -11.26284221  -0.1        -12.00921659 -11.26284221\n",
      "  -0.1        -12.00921659 -11.26284221  -0.1        -12.00921659\n",
      " -11.26284221  -0.1        -12.00921659 -11.26284221  -0.1\n",
      " -12.00921659 -11.26284221  -0.1        -12.00921659 -11.26284221\n",
      "  -0.1        -12.00921659 -11.26284221  -0.1        -12.00921659\n",
      " -11.26284221  -0.1        -12.00921659 -11.26284221  -0.1\n",
      " -12.00921659 -11.26284221  -0.1        -12.00921659 -11.26284221]\n",
      "Expected gradients (approx): [-0.1000  -12.0092  -11.2628]\n"
     ]
    }
   ],
   "source": [
    "m, n = X.shape\n",
    "\n",
    "#Add intercept term to X\n",
    "x0 = np.ones((m,1))\n",
    "X = np.append(x0, X, axis = 1)\n",
    "\n",
    "#Initialize fitting parameters\n",
    "initial_theta = np.zeros((n+1,1))\n",
    "\n",
    "#Compute and display initial cost and gradient\n",
    "cost, grad = costFunction(initial_theta, X, y)\n",
    "\n",
    "print('Cost at initial theta (zeros):', cost)\n",
    "print('Expected cost (approx): 0.693')\n",
    "print('Gradient at initial theta (zeros):', grad)\n",
    "print('Expected gradients (approx): [-0.1000  -12.0092  -11.2628]')"
   ]
  },
  {
   "cell_type": "code",
   "execution_count": 14,
   "metadata": {},
   "outputs": [
    {
     "name": "stdout",
     "output_type": "stream",
     "text": [
      "\n",
      "Cost at test theta: \n",
      " 0.21833019382659796\n",
      "Expected cost (approx): 0.218\n",
      "\n",
      "Gradient at test theta: \n",
      " [0.04290299 2.56623412 2.64679737]\n",
      "Expected gradients (approx):\n",
      " 0.043\n",
      " 2.566\n",
      " 2.647\n",
      "\n"
     ]
    }
   ],
   "source": [
    "test_theta = [-24, 0.2, 0.2]\n",
    "[cost, grad] = costFunction(test_theta, X, y)\n",
    "\n",
    "print('\\nCost at test theta: \\n', cost)\n",
    "print('Expected cost (approx): 0.218\\n')\n",
    "print('Gradient at test theta: \\n',grad);\n",
    "print('Expected gradients (approx):\\n 0.043\\n 2.566\\n 2.647\\n')"
   ]
  },
  {
   "cell_type": "markdown",
   "metadata": {},
   "source": [
    "### 1.2.3 Learning parameters using Optimize (Scipy):\n",
    "\n",
    "<p>Note that we don't actually perform gradient descent in this function - we just compute a single gradient step. In the exercise, an Octave function called \"fminunc\" is used to optimize the parameters given functions to compute the cost and the gradients. Since we're using Python, we can use SciPy's optimization API to do the same thing.</p>\n",
    "\n",
    "<p>To specify the actual function we are minimizing, we use an optimization function from Scipy package <b>fmin_tnc()</b>with argument func that calls your costFunction. This allows us to wrap the costFunction for use with fmin_tnc.</p>\n",
    "\n",
    "<p>If you have completed the costFunction correctly, fmin_tnc will converge on the right optimization parameters and return the ﬁnal values of the cost and θ. Notice that by using fmin_tnc, you did not have to write any loops yourself, or set a learning rate like you did for gradient descent. This is all done by fmin_tnc: you only needed to provide a function calculating the cost and the gradient, initial theta values and data arguments.</p>\n",
    "\n",
    "<p>Once fmin_tnc completes, you will call your costFunction function using the optimal parameters of θ. You should see that the cost is about 0.218.</p>\n",
    "\n",
    "<p>This ﬁnal θ value will then be used to plot the decision boundary on the training data, resulting in a ﬁgure similar to Figure 2. We also encourage you to look at the code in plotDecisionBoundary() to see how to plot such a boundary using the θ values.</p>"
   ]
  },
  {
   "cell_type": "code",
   "execution_count": 15,
   "metadata": {},
   "outputs": [],
   "source": [
    "import scipy.optimize as opt\n",
    "\n",
    "\n",
    "# set options for optimize.minimize\n",
    "options= {'maxiter': 400}\n",
    "\n",
    "res = opt.minimize(costFunction,\n",
    "                        initial_theta,\n",
    "                        (X, y),\n",
    "                        jac=True,\n",
    "                        method='TNC',\n",
    "                        options=options)\n",
    "\n",
    "# the fun property of `OptimizeResult` object returns\n",
    "# the value of costFunction at optimized theta\n",
    "cost = res.fun\n",
    "\n",
    "# the optimized theta is in the x property\n",
    "theta = res.x\n",
    "\n",
    "#result = opt.fmin_tnc(func=costFunction, x0=initial_theta, args=(X, y))"
   ]
  },
  {
   "cell_type": "code",
   "execution_count": 16,
   "metadata": {},
   "outputs": [
    {
     "name": "stdout",
     "output_type": "stream",
     "text": [
      "Thetas found by minimize function:       fun: 0.20349770158947497\n",
      "     jac: array([9.14875519e-09, 9.99037356e-08, 4.79345707e-07])\n",
      " message: 'Local minimum reached (|pg| ~= 0)'\n",
      "    nfev: 36\n",
      "     nit: 17\n",
      "  status: 0\n",
      " success: True\n",
      "       x: array([-25.16131853,   0.20623159,   0.20147149])\n",
      "Cost at theta found : \n",
      " 0.20349770158947497\n",
      "Expected cost (approx): 0.203\n",
      "\n",
      "theta: \n",
      " [-25.16131853   0.20623159   0.20147149]\n",
      "Expected theta (approx):\n",
      "\n",
      " -25.161\n",
      " 0.206\n",
      " 0.201\n",
      "\n"
     ]
    }
   ],
   "source": [
    "print('Thetas found by minimize function: ', res);\n",
    "print('Cost at theta found : \\n', cost);\n",
    "print('Expected cost (approx): 0.203\\n');\n",
    "print('theta: \\n',theta);\n",
    "print('Expected theta (approx):\\n');\n",
    "print(' -25.161\\n 0.206\\n 0.201\\n');"
   ]
  },
  {
   "cell_type": "code",
   "execution_count": 17,
   "metadata": {},
   "outputs": [
    {
     "name": "stdout",
     "output_type": "stream",
     "text": [
      "Plotting data with x indicating (y = 1) examples and o indicating (y = 0) examples.\n",
      "\n"
     ]
    },
    {
     "data": {
      "image/png": "[encoded data removed]",
      "text/plain": [
       "<Figure size 432x288 with 1 Axes>"
      ]
     },
     "metadata": {
      "needs_background": "light"
     },
     "output_type": "display_data"
    }
   ],
   "source": [
    "#Plot Boundary\n",
    "plotDecisionBoundary(theta, X, y)\n",
    "# add axes labels\n",
    "plt.xlabel('Exam 1 score')\n",
    "plt.ylabel('Exam 2 score')\n",
    "plt.legend([\"Decision Boundary\", \"Accepted\",\"Rejected\"],loc=0)\n",
    "plt.show()"
   ]
  },
  {
   "cell_type": "markdown",
   "metadata": {},
   "source": [
    "### 1.2.4 Evaluating Logistic Regression:\n",
    "\n",
    "<p>After learning the parameters, you can use the model to predict whether a particular student will be admitted. For a student with an Exam 1 score of 45 and an Exam 2 score of 85, you should expect to see an admission probability of 0.776.</p>\n",
    "\n",
    "<p>Another way to evaluate the quality of the parameters we have found is to see how well the learned model predicts on our training set. In this part, your task is to complete the code in predict(). The predict function will produce “1” or “0” predictions given a dataset and a learned parameter vector θ.</p>\n",
    "\n",
    "<p>After you have completed the code in predict(), the script will proceed to report the training accuracy of your classiﬁer by computing the percentage of examples it got correct.</p>"
   ]
  },
  {
   "cell_type": "code",
   "execution_count": 18,
   "metadata": {},
   "outputs": [
    {
     "name": "stdout",
     "output_type": "stream",
     "text": [
      "For a student with scores 45 and 85, we predict an admission probability of  0.7762906220893772\n",
      "Expected value: 0.775 +/- 0.002\n"
     ]
    }
   ],
   "source": [
    "X_test = np.array([1, 45, 85])\n",
    "prob = sigmoid(np.dot(X_test, theta))\n",
    "print('For a student with scores 45 and 85, we predict an admission probability of ', prob)\n",
    "print('Expected value: 0.775 +/- 0.002')"
   ]
  },
  {
   "cell_type": "code",
   "execution_count": 19,
   "metadata": {},
   "outputs": [
    {
     "name": "stdout",
     "output_type": "stream",
     "text": [
      "Train Accuracy: 89.0\n",
      "Expected accuracy (approx): 89.0\n",
      "\n"
     ]
    }
   ],
   "source": [
    "#Compute accuracy on training set\n",
    "p = predict(theta, X)\n",
    "\n",
    "print('Train Accuracy:', np.mean(p == y) * 100)\n",
    "print('Expected accuracy (approx): 89.0\\n')"
   ]
  },
  {
   "cell_type": "markdown",
   "metadata": {},
   "source": [
    "### 2. Regularized Logistic Regression\n",
    "\n",
    "<p>In this part of the exercise, you will implement regularized logistic regression to predict whether microchips from a fabrication plant passes quality assurance (QA). During QA, each microchip goes through various tests to ensure it is functioning correctly.</p>\n",
    "\n",
    "<p>Suppose you are the product manager of the factory and you have the test results for some microchips on two diﬀerent tests. From these two tests, you would like to determine whether the microchips should be accepted or rejected. To help you make the decision, you have a dataset of test results on past microchips, from which you can build a logistic regression model.</p>"
   ]
  },
  {
   "cell_type": "code",
   "execution_count": 20,
   "metadata": {},
   "outputs": [
    {
     "data": {
      "text/html": [
       "<div>\n",
       "<style scoped>\n",
       "    .dataframe tbody tr th:only-of-type {\n",
       "        vertical-align: middle;\n",
       "    }\n",
       "\n",
       "    .dataframe tbody tr th {\n",
       "        vertical-align: top;\n",
       "    }\n",
       "\n",
       "    .dataframe thead th {\n",
       "        text-align: right;\n",
       "    }\n",
       "</style>\n",
       "<table border=\"1\" class=\"dataframe\">\n",
       "  <thead>\n",
       "    <tr style=\"text-align: right;\">\n",
       "      <th></th>\n",
       "      <th>0</th>\n",
       "      <th>1</th>\n",
       "      <th>2</th>\n",
       "    </tr>\n",
       "  </thead>\n",
       "  <tbody>\n",
       "    <tr>\n",
       "      <th>0</th>\n",
       "      <td>0.051267</td>\n",
       "      <td>0.69956</td>\n",
       "      <td>1</td>\n",
       "    </tr>\n",
       "    <tr>\n",
       "      <th>1</th>\n",
       "      <td>-0.092742</td>\n",
       "      <td>0.68494</td>\n",
       "      <td>1</td>\n",
       "    </tr>\n",
       "    <tr>\n",
       "      <th>2</th>\n",
       "      <td>-0.213710</td>\n",
       "      <td>0.69225</td>\n",
       "      <td>1</td>\n",
       "    </tr>\n",
       "    <tr>\n",
       "      <th>3</th>\n",
       "      <td>-0.375000</td>\n",
       "      <td>0.50219</td>\n",
       "      <td>1</td>\n",
       "    </tr>\n",
       "    <tr>\n",
       "      <th>4</th>\n",
       "      <td>-0.513250</td>\n",
       "      <td>0.46564</td>\n",
       "      <td>1</td>\n",
       "    </tr>\n",
       "  </tbody>\n",
       "</table>\n",
       "</div>"
      ],
      "text/plain": [
       "          0        1  2\n",
       "0  0.051267  0.69956  1\n",
       "1 -0.092742  0.68494  1\n",
       "2 -0.213710  0.69225  1\n",
       "3 -0.375000  0.50219  1\n",
       "4 -0.513250  0.46564  1"
      ]
     },
     "execution_count": 20,
     "metadata": {},
     "output_type": "execute_result"
    }
   ],
   "source": [
    "data = pd.read_csv('ex2data2.txt', sep = ',', header = None)\n",
    "data.head()"
   ]
  },
  {
   "cell_type": "code",
   "execution_count": 21,
   "metadata": {
    "scrolled": false
   },
   "outputs": [],
   "source": [
    "X = data.values[:,:2]\n",
    "y = data.values[:,2:3]"
   ]
  },
  {
   "cell_type": "markdown",
   "metadata": {},
   "source": [
    "### 2.1 Visualize data\n",
    "\n",
    "<p>Similar to the previous parts of this exercise, plotData is used to generate a ﬁgure like Figure 3, where the axes are the two test scores, and the positive (y = 1, accepted) and negative (y = 0, rejected) examples are shown with diﬀerent markers.</p>"
   ]
  },
  {
   "cell_type": "code",
   "execution_count": 22,
   "metadata": {},
   "outputs": [
    {
     "name": "stdout",
     "output_type": "stream",
     "text": [
      "Plotting data with x indicating (y = 1) examples and o indicating (y = 0) examples.\n",
      "\n"
     ]
    },
    {
     "data": {
      "image/png": "[encoded data removed]",
      "text/plain": [
       "<Figure size 432x288 with 1 Axes>"
      ]
     },
     "metadata": {
      "needs_background": "light"
     },
     "output_type": "display_data"
    }
   ],
   "source": [
    "plotData(X, y)\n",
    "\n",
    "#Labels and Legend\n",
    "plt.xlabel('Microchip Test 1')\n",
    "plt.ylabel('Microchip Test 2')\n",
    "plt.legend([\"y=1\", \"y=0\"],loc=0)\n",
    "plt.show()"
   ]
  },
  {
   "cell_type": "markdown",
   "metadata": {},
   "source": [
    "<p>The above figure shows that our dataset cannot be separated into positive and negative examples by a straight-line through the plot. Therefore, a straightforward application of logistic regression will not perform well on this dataset since logistic regression will only be able to ﬁnd a linear decision boundary.</p>"
   ]
  },
  {
   "cell_type": "markdown",
   "metadata": {},
   "source": [
    "### 2.2 Feature Mapping\n",
    "\n",
    "<p>One way to ﬁt the data better is to create more features from each data point. In the provided function mapFeature(), we will map the features into all polynomial terms of x1 and x2 up to the sixth power.</p>"
   ]
  },
  {
   "cell_type": "code",
   "execution_count": 23,
   "metadata": {},
   "outputs": [
    {
     "data": {
      "text/plain": [
       "(118, 28)"
      ]
     },
     "execution_count": 23,
     "metadata": {},
     "output_type": "execute_result"
    }
   ],
   "source": [
    "#Add Polynomial Features\n",
    "#Note that the mapFeature() also adds a column of ones for us, so the intercept term is handled\n",
    "X = mapFeature(X[:,0], X[:,1])\n",
    "X.shape"
   ]
  },
  {
   "cell_type": "markdown",
   "metadata": {},
   "source": [
    "<p>As a result of this mapping, our vector of two features (the scores on two QA tests) has been transformed into a 28-dimensional vector. A logistic regression classiﬁer trained on this higher-dimension feature vector will have a more complex decision boundary and will appear nonlinear when drawn in our 2-dimensional plot.</p>\n",
    "\n",
    "<p>While the feature mapping allows us to build a more expressive classiﬁer, it also more susceptible to overﬁtting. In the next parts of the exercise, you will implement regularized logistic regression to ﬁt the data and also see for yourself how regularization can help combat the overﬁtting problem.</p>"
   ]
  },
  {
   "cell_type": "markdown",
   "metadata": {},
   "source": [
    "### 2.3 Cost Function and Gradient\n",
    "\n",
    "<p>Now you will implement code to compute the cost function and gradient for regularized logistic regression. Complete the code in costFunctionReg.m to return the cost and gradient. Recall that the regularized cost function in logistic regression is\n",
    "$$J(θ) = \\frac{1}{m} \\sum_{i=1}^m [y^ilog(h_\\theta(x^i)) - (1-y^i)log(1-h_\\theta(x^i))] + \\frac{\\lambda}{2m} \\sum_{j=1}^n \\theta^2_j$$ </p>\n",
    "\n",
    "<p>Note that you should not regularize the parameter $\\theta_0$.  The gradient of the cost function is a vector where the jth element is deﬁned as follows:\n",
    "$$\\frac{\\partial J(θ)}{\\partial θ_j} = \\frac{1}{m} \\sum_{i=1}^m (h_\\theta(x^i))-y^i)x^i_j$$ for j = 0\n",
    "$$\\frac{\\partial J(θ)}{\\partial θ_j} = \\frac{1}{m} \\sum_{i=1}^m (h_\\theta(x^i))-y^i)x^i_j + \\frac{\\lambda}{m} \\theta_j$$ for j = 1\n",
    "    </p>\n",
    "    \n",
    "<p>call your costFunctionReg function using the initial value of θ (initialized to all zeros). You should see that the cost is about 0.693.</p>"
   ]
  },
  {
   "cell_type": "code",
   "execution_count": 24,
   "metadata": {},
   "outputs": [
    {
     "name": "stdout",
     "output_type": "stream",
     "text": [
      "Cost at initial theta (zeros): 0.6931471805599453\n",
      "Expected cost (approx): 0.693\n",
      "Gradient at initial theta (zeros) - first five values only: [8.47457627e-03 1.87880932e-02 7.77711864e-05 5.03446395e-02\n",
      " 1.15013308e-02]\n",
      "Expected gradients (approx) - first five values only:\n",
      " 0.0085\n",
      " 0.0188\n",
      " 0.0001\n",
      " 0.0503\n",
      " 0.0115\n"
     ]
    }
   ],
   "source": [
    "#Initial fitting parameters\n",
    "initial_theta = np.zeros((X.shape[1], 1))\n",
    "\n",
    "#Set regularization parameter lambda to 1\n",
    "lambda_ = 1\n",
    "\n",
    "#Compute and display initial cost and gradient for regularized logistic regression\n",
    "cost, grad = costFunctionReg(initial_theta, X, y, lambda_)\n",
    "\n",
    "print('Cost at initial theta (zeros):', cost)\n",
    "print('Expected cost (approx): 0.693')\n",
    "print('Gradient at initial theta (zeros) - first five values only:', grad[0:5])\n",
    "print('Expected gradients (approx) - first five values only:')\n",
    "print(' 0.0085\\n 0.0188\\n 0.0001\\n 0.0503\\n 0.0115')"
   ]
  },
  {
   "cell_type": "code",
   "execution_count": 25,
   "metadata": {},
   "outputs": [
    {
     "name": "stdout",
     "output_type": "stream",
     "text": [
      "Cost at test theta (with lambda = 10): 3.16450933161501\n",
      "Expected cost (approx): 3.16\n",
      "Gradient at test theta - first five values only: [0.34604507 0.16135192 0.19479576 0.22686278 0.09218568]\n",
      "Expected gradients (approx) - first five values only:\n",
      "\n",
      " 0.3460\n",
      " 0.1614\n",
      " 0.1948\n",
      " 0.2269\n",
      " 0.0922\n",
      "\n"
     ]
    }
   ],
   "source": [
    "#Compute and display cost and gradient with all ones theta and lambda = 10\n",
    "test_theta = np.ones((X.shape[1], 1))\n",
    "cost, grad = costFunctionReg(test_theta, X, y, 10)\n",
    "\n",
    "print('Cost at test theta (with lambda = 10):', cost)\n",
    "print('Expected cost (approx): 3.16')\n",
    "print('Gradient at test theta - first five values only:', grad[0:5])\n",
    "print('Expected gradients (approx) - first five values only:\\n')\n",
    "print(' 0.3460\\n 0.1614\\n 0.1948\\n 0.2269\\n 0.0922\\n')"
   ]
  },
  {
   "cell_type": "markdown",
   "metadata": {},
   "source": [
    "### 2.3.1 Learning parameters using optimize"
   ]
  },
  {
   "cell_type": "code",
   "execution_count": 33,
   "metadata": {},
   "outputs": [],
   "source": [
    "#Initial fitting parameters\n",
    "initial_theta = np.zeros((X.shape[1], 1))\n",
    "\n",
    "#Set regularization parameter lambda to 1\n",
    "lambda_ = 1\n",
    "\n",
    "# set options for optimize.minimize\n",
    "options= {'maxiter': 400}\n",
    "\n",
    "res = opt.minimize(costFunctionReg,\n",
    "                        initial_theta.flatten(),\n",
    "                        (X, y.flatten(), lambda_),\n",
    "                        jac=True,\n",
    "                        method='TNC',\n",
    "                        options=options)\n",
    "\n",
    "# the fun property of `OptimizeResult` object returns\n",
    "# the value of costFunction at optimized theta\n",
    "cost = res.fun\n",
    "\n",
    "# the optimized theta is in the x property\n",
    "theta = res.x"
   ]
  },
  {
   "cell_type": "code",
   "execution_count": 34,
   "metadata": {},
   "outputs": [
    {
     "name": "stdout",
     "output_type": "stream",
     "text": [
      "Thetas found by minimize function:       fun: 0.6544877959700425\n",
      "     jac: array([-0.0610793 , -0.00660941, -0.00197446,  0.0161882 ,  0.00979726,\n",
      "        0.0128444 , -0.0005022 ,  0.0054556 ,  0.00242436,  0.01208232,\n",
      "        0.01564769,  0.00151902,  0.00649892,  0.00246737,  0.01993687,\n",
      "        0.00383713,  0.00300201,  0.00068503,  0.00398526,  0.00197021,\n",
      "        0.0166488 ,  0.01244347,  0.00043927,  0.00327991,  0.00018196,\n",
      "        0.0041647 ,  0.000884  ,  0.02080876])\n",
      " message: 'Linear search failed'\n",
      "    nfev: 96\n",
      "     nit: 1\n",
      "  status: 4\n",
      " success: False\n",
      "       x: array([ 0.        , -0.00602678,  0.39178171, -0.45600963, -0.16345792,\n",
      "       -0.14868216, -0.08286216, -0.05165687, -0.07950305, -0.03803835,\n",
      "       -0.3995904 , -0.02030656, -0.1246764 , -0.04280453, -0.27166958,\n",
      "       -0.14715524, -0.04113253, -0.02632121, -0.05234921, -0.05335967,\n",
      "       -0.18084988, -0.3162826 , -0.00485563, -0.06747121, -0.00138271,\n",
      "       -0.07169554, -0.01909383, -0.29410678])\n",
      "Cost at theta found : \n",
      " 0.6544877959700425\n",
      "theta: \n",
      " [ 0.         -0.00602678  0.39178171 -0.45600963 -0.16345792 -0.14868216\n",
      " -0.08286216 -0.05165687 -0.07950305 -0.03803835 -0.3995904  -0.02030656\n",
      " -0.1246764  -0.04280453 -0.27166958 -0.14715524 -0.04113253 -0.02632121\n",
      " -0.05234921 -0.05335967 -0.18084988 -0.3162826  -0.00485563 -0.06747121\n",
      " -0.00138271 -0.07169554 -0.01909383 -0.29410678]\n"
     ]
    }
   ],
   "source": [
    "print('Thetas found by minimize function: ', res)\n",
    "print('Cost at theta found : \\n', cost)\n",
    "print('theta: \\n',theta)"
   ]
  },
  {
   "cell_type": "markdown",
   "metadata": {},
   "source": [
    "### 2.4 Plotting Decision Boundary\n",
    "\n",
    "<p>To help you visualize the model learned by this classiﬁer, we have provided the function plotDecisionBoundary() which plots the (non-linear) decision boundary that separates the positive and negative examples. In plotDecisionBoundary(), we plot the non-linear decision boundary by computing the classiﬁer’s predictions on an evenly spaced grid and then and drew a contour plot of where the predictions change from y = 0 to y = 1.</p>\n",
    "\n",
    "<p>After learning the parameters θ, the next step will plot a decision boundary similar to Figure 4.</p>"
   ]
  },
  {
   "cell_type": "code",
   "execution_count": 29,
   "metadata": {},
   "outputs": [
    {
     "name": "stdout",
     "output_type": "stream",
     "text": [
      "Plotting data with x indicating (y = 1) examples and o indicating (y = 0) examples.\n",
      "\n"
     ]
    },
    {
     "data": {
      "image/png": "[encoded data removed]",
      "text/plain": [
       "<Figure size 432x288 with 1 Axes>"
      ]
     },
     "metadata": {
      "needs_background": "light"
     },
     "output_type": "display_data"
    }
   ],
   "source": [
    "#Plot Boundary\n",
    "plotDecisionBoundary(theta, X, y)\n",
    "# add axes labels\n",
    "plt.xlabel('Microchip Test 1')\n",
    "plt.ylabel('Microchip Test 2')\n",
    "plt.title('Lambda = {}'.format(lambda_))\n",
    "plt.legend([\"y=1\", \"y=0\"],loc=0)\n",
    "plt.show()"
   ]
  },
  {
   "cell_type": "code",
   "execution_count": 31,
   "metadata": {},
   "outputs": [
    {
     "name": "stdout",
     "output_type": "stream",
     "text": [
      "Train Accuracy: 50.560183855214014\n",
      "Expected accuracy (with lambda = 1): 83.1 (approx)\n"
     ]
    }
   ],
   "source": [
    "#Compute accuracy on our training set\n",
    "p = predict(theta, X);\n",
    "\n",
    "print('Train Accuracy:', np.mean(p == y) * 100);\n",
    "print('Expected accuracy (with lambda = 1): 83.1 (approx)');"
   ]
  },
  {
   "cell_type": "code",
   "execution_count": null,
   "metadata": {},
   "outputs": [],
   "source": []
  }
 ],
 "metadata": {
  "kernelspec": {
   "display_name": "Python 3",
   "language": "python",
   "name": "python3"
  },
  "language_info": {
   "codemirror_mode": {
    "name": "ipython",
    "version": 3
   },
   "file_extension": ".py",
   "mimetype": "text/x-python",
   "name": "python",
   "nbconvert_exporter": "python",
   "pygments_lexer": "ipython3",
   "version": "3.7.3"
  }
 },
 "nbformat": 4,
 "nbformat_minor": 2
}
